{
 "cells": [
  {
   "cell_type": "markdown",
   "metadata": {},
   "source": [
    "# FloydHub Introduction to Deep Learning: Neural Networks\n",
    "\n",
    "<p align=\"center\">\n",
    "  <img src=\"https://media.giphy.com/media/hq7TfiG7jxPTq/source.gif\"/>\n",
    "</p>\n",
    "\n",
    "## Introduction\n",
    "\n",
    "Welcome to Part 2! Here, we'll introduce you to the `hello world` of deep learning-- The Handwritten Digit Recognition task. This article is essentially split into two sections, in the first one we pick up where we left off, by implementing a simple logistic regression model on the MNIST data & defining a standard classification workflow. Then we'll (*try*) to build a simple & minimal Neural Network (from scratch) in PyTorch to see how these non-linear architectures improve the classification performance. If you do however feel that the first section is `too simple`, feel free to hop on to the next. So let's get started!\n",
    "\n",
    "#### Quick Recap\n",
    "\n",
    "Before we move ahead with our first task of implementing `Logistic Regression` for Digit Recognition, let's quickly mull over what we've done so far:\n",
    "\n",
    "  1. We introduced PyTorch & some of its basic concepts like Tensors & Variables.\n",
    "  2. A brief explanation about Autograd & Optimizers.\n",
    "  3. Introduced the task of Handwritten Digit Recognition on the MNIST dataset.\n",
    "\n",
    "\n",
    "## Logistic Regression\n",
    "\n",
    "At the end of last lesson, we introduced the famous MNIST task. It is when we're given a `[28 x 28]` grayscale image of a handwritten digit and we wish to identify the digit `[0-9]`. The outputs here (digits) are referred to as `classes`, 10 of them in this case. This type of problem is particularly known as a **Multi-Class Classification**-- where a response `(y)` can have 3 or more values (10 in this case).\n",
    "\n",
    "<p align=\"center\">\n",
    "<img src=\"https://cdn-images-1.medium.com/max/800/1*zY1qFB9aFfZz66YxxoI2aw.gif\"/>\n",
    "</p>\n",
    "\n",
    "We'll start off by understanding the workflow of a classification problem. In the next few sections you'll see how an image dataset is processed as well as the instantiation of a Logistic model in PyTorch.\n",
    "\n",
    "For the sake of notation, let's denote the input image matrix `[28 x 28]` by `X` or `features` & the digit associated with that image as `Y` or `class label`.\n",
    "\n",
    "\n",
    "\n",
    "#### *Step 1: Feature & Label Transformation*\n",
    "\n",
    "We can convert the 2-dimensional image features in our example into a 1-dimensional one (as required in linear regression) by appending each row of pixels one after another to the end of the first row of pixels as shown below.\n",
    "\n",
    "<p align=\"center\">\n",
    "<img src=\"https://cdn-images-1.medium.com/max/1000/1*UDgDe_-GMs4QQbT8UopoGA.png\"/>\n",
    "</p>\n",
    "\n",
    "Also, in a classification task, we cannot leave `Y` as a scalar value since we do not want the predicted outcome to be a real valued number.\n",
    "\n",
    "To overcome this, the prediction from the model, `Y` should be transformed into a single column vector (shown below as row vector to conserve space) where each element represents the score of what the our classification model thinks is likely to be a particular class. In the example below, `class ‘1’` is the predicted class since it has the highest score.\n",
    "\n",
    "![Predicted Outcome Transformation](https://cdn-images-1.medium.com/max/1280/1*Ld1fM5euVXm16mTf-4ifZA.png)\n",
    "\n",
    "To derive this vector of scores, for a given image, each pixel on it will contribute to a set of scores (one for each class) indicating the *likelihood* by which it thinks the image is in a particular class. The sum of all the scores from every pixel for each class becomes the prediction vector.\n",
    "\n",
    "![Predicted Outcome Transformation 2](https://cdn-images-1.medium.com/max/1280/1*aOP0s2i587kDJW2Td7GNqQ.png)\n",
    "\n",
    "#### *Step 2: Cost Optimization*\n",
    "\n",
    "If you remember, in the last article, we had defined our error/loss as `error = (y_-y).abs()` i.e the absolute numerical difference between the predicted output & the actual output. However, in a classification task, things are a bit different. Such a cost function, for an image of digit ‘1’, will penalize a prediction of ‘7’ more heavily `(7–1=6)` than a prediction of ‘2’ `(2–1=1)`, although both are equally wrong.\n",
    "\n",
    "The most commonly used cost function in multi-class classification problem is the [cross entropy](https://en.wikipedia.org/wiki/Cross_entropy) loss. It works in 3 simple steps,\n",
    "\n",
    "  1. Convert actual image class vector `(y)` into a [one-hot vector](https://machinelearningmastery.com/why-one-hot-encode-data-in-machine-learning/), which is a probability distribution.\n",
    "  2. Convert prediction class vector `(y')` into a probability distribution using [Softmax](https://www.quora.com/What-is-the-sigmoid-function-and-what-is-its-use-in-machine-learnings-neural-networks-How-about-the-sigmoid-derivative-function).\n",
    "  3. Calculate the difference between 2 probability distribution functions.\n",
    "\n",
    "To know more about the intricate functioning of Logistic Regression, read all about it in [this article](https://medium.com/all-of-us-are-belong-to-machines/gentlest-intro-to-tensorflow-4-logistic-regression-2afd0cabc54) by Soon Hin Khor."
   ]
  },
  {
   "cell_type": "markdown",
   "metadata": {},
   "source": [
    "### Handling the Data\n",
    "\n",
    "The `torchvision` package in PyTorch consists of popular datasets, model architectures, and common image transformations for computer vision. `torchvision.datasets` provide a great API to handle the MNIST dataset. The snippet of code below, will create the MNIST dataset, then we will dive into to take a look about MNIST samples.\n",
    "\n",
    "First of all we import all the packages we need for running this tutorial:\n",
    "\n",
    "- `torch`, our DL framework\n",
    "- `torchvision`, package to handle pytorch Dataset for computer vision task\n",
    "- `torch.nn`, package we need to create our Models\n",
    "- `numpy` package to handle vector representation\n",
    "- `matplotlib` to plot graphs"
   ]
  },
  {
   "cell_type": "code",
   "execution_count": 1,
   "metadata": {
    "collapsed": true
   },
   "outputs": [],
   "source": [
    "import torch\n",
    "import torchvision.datasets as dsets\n",
    "import torch.nn as nn\n",
    "import torchvision.transforms as transforms\n",
    "from torch.autograd import Variable\n",
    "from torchvision.utils import make_grid\n",
    "import numpy as np\n",
    "import matplotlib.pyplot as plt\n",
    "%matplotlib inline\n",
    "\n",
    "# CUDA?\n",
    "cuda = torch.cuda.is_available()\n",
    "\n",
    "# Seed for replicability\n",
    "torch.manual_seed(1)\n",
    "if cuda:\n",
    "    torch.cuda.manual_seed(1)"
   ]
  },
  {
   "cell_type": "code",
   "execution_count": 2,
   "metadata": {},
   "outputs": [
    {
     "name": "stdout",
     "output_type": "stream",
     "text": [
      "Training Data Size:  torch.Size([60000, 28, 28]) - torch.Size([60000])\n",
      "Testing Data Size:  torch.Size([10000, 28, 28]) - torch.Size([10000])\n"
     ]
    },
    {
     "data": {
      "image/png": "[encoded data removed]",
      "text/plain": [
       "<matplotlib.figure.Figure at 0x7fcb9a335438>"
      ]
     },
     "metadata": {},
     "output_type": "display_data"
    }
   ],
   "source": [
    "# MNIST Dataset (Images and Labels)\n",
    "# If you have not mounted the dataset, you can download it\n",
    "# just adding download=True as parameter\n",
    "\n",
    "# Get dataset and labels for training\n",
    "train_dataset = dsets.MNIST(root='/input', \n",
    "                            train=True, \n",
    "                            transform=transforms.ToTensor())\n",
    "x_train_mnist, y_train_mnist = train_dataset.train_data.type(torch.FloatTensor), train_dataset.train_labels\n",
    "\n",
    "# Get dataset and labels for test\n",
    "test_dataset = dsets.MNIST(root='/input', \n",
    "                           train=False, \n",
    "                           transform=transforms.ToTensor())\n",
    "x_test_mnist, y_test_mnist = test_dataset.test_data.type(torch.FloatTensor), test_dataset.test_labels\n",
    "\n",
    "print('Training Data Size: ' ,x_train_mnist.size(), '-', y_train_mnist.size())\n",
    "print('Testing Data Size: ' ,x_test_mnist.size(), '-', y_test_mnist.size())\n",
    "\n",
    "# Show a sample\n",
    "plt.imshow(x_train_mnist[0].numpy(), cmap='gray')\n",
    "plt.title('DIGIT: %i' % y_train_mnist[0])\n",
    "plt.axis('off')\n",
    "plt.show()"
   ]
  },
  {
   "cell_type": "markdown",
   "metadata": {},
   "source": [
    "`torch.utils.data.DataLoader` combines a dataset and a sampler, and provides single or multi-process iterators over the dataset."
   ]
  },
  {
   "cell_type": "code",
   "execution_count": 3,
   "metadata": {
    "collapsed": true
   },
   "outputs": [],
   "source": [
    "# Hyperparameter\n",
    "batch_size = 8\n",
    "\n",
    "# Training Dataset Loader (Input Pipline)\n",
    "train_loader = torch.utils.data.DataLoader(dataset=train_dataset, \n",
    "                                           batch_size=batch_size, \n",
    "                                           shuffle=True)\n",
    "# Testing Dataset Loader (Input Pipline)\n",
    "test_loader = torch.utils.data.DataLoader(dataset=test_dataset, \n",
    "                                          batch_size=batch_size, \n",
    "                                          shuffle=False)"
   ]
  },
  {
   "cell_type": "markdown",
   "metadata": {},
   "source": [
    "Show a Batch size of sample."
   ]
  },
  {
   "cell_type": "code",
   "execution_count": 4,
   "metadata": {},
   "outputs": [
    {
     "data": {
      "image/png": "[encoded data removed]",
      "text/plain": [
       "<matplotlib.figure.Figure at 0x7fcbf5ad5fd0>"
      ]
     },
     "metadata": {},
     "output_type": "display_data"
    }
   ],
   "source": [
    "# Plot a grid of images\n",
    "def imshow(inp_tensor, title):\n",
    "    \"\"\"image show for Tensor\"\"\"\n",
    "    img = inp_tensor.numpy().transpose((1, 2, 0))\n",
    "    plt.imshow(img)\n",
    "    if title is not None:\n",
    "        plt.title(title)\n",
    "    plt.pause(0.001)\n",
    "\n",
    "# Get a batch\n",
    "trainset_iter = iter(train_loader)\n",
    "images, labels = trainset_iter.next()\n",
    "# show images\n",
    "batch_imgs = make_grid(images, nrow=batch_size)\n",
    "plt.axis('off')\n",
    "imshow(batch_imgs, title=[x for x in labels])"
   ]
  },
  {
   "cell_type": "code",
   "execution_count": 5,
   "metadata": {
    "collapsed": true
   },
   "outputs": [],
   "source": [
    "# Hyperparameter\n",
    "batch_size = 64 # To reduce Variance\n",
    "\n",
    "# Training Dataset Loader (Input Pipline)\n",
    "train_loader = torch.utils.data.DataLoader(dataset=train_dataset, \n",
    "                                           batch_size=batch_size, \n",
    "                                           shuffle=True)\n",
    "# Testing Dataset Loader (Input Pipline)\n",
    "test_loader = torch.utils.data.DataLoader(dataset=test_dataset, \n",
    "                                          batch_size=batch_size, \n",
    "                                          shuffle=False)"
   ]
  },
  {
   "cell_type": "markdown",
   "metadata": {},
   "source": [
    "### Build & Train\n",
    "\n",
    "Now that we have our image-label pairs in order & ready to be processed in batches of 64 `(batch size)`, we can move ahead and define a standard logistic classifier with `CrossEntropy` loss."
   ]
  },
  {
   "cell_type": "code",
   "execution_count": 58,
   "metadata": {
    "collapsed": true
   },
   "outputs": [],
   "source": [
    "# Hyperparameters\n",
    "input_size = 784 # 28 * 28\n",
    "num_classes = 10\n",
    "learning_rate = 1e-3\n",
    "\n",
    "#### Weight Init ####\n",
    "# See Exercices at the end of the Notebook\n",
    "\n",
    "#### Model ####\n",
    "# Logistic Regression Model\n",
    "class LogisticRegression(nn.Module):\n",
    "    def __init__(self, input_size, num_classes):\n",
    "        super(LogisticRegression, self).__init__()\n",
    "        self.linear = nn.Linear(input_size, num_classes) # Define linear, y = x.W + b where W is weight matrix\n",
    "\n",
    "    def forward(self, x):\n",
    "        out = self.linear(x)\n",
    "        return out\n",
    "\n",
    "model = LogisticRegression(input_size, num_classes)\n",
    "\n",
    "# If you are running a GPU instance, load the model on GPU\n",
    "if cuda:\n",
    "    model.cuda()\n",
    "\n",
    "\n",
    "#### Loss and Optimizer ####\n",
    "# Softmax is internally computed.\n",
    "loss_fn = nn.CrossEntropyLoss()\n",
    "# If you are running a GPU instance, compute the loss on GPU\n",
    "if cuda:\n",
    "    loss_fn.cuda()\n",
    "\n",
    "# Set parameters to be updated.\n",
    "optimizer = torch.optim.SGD(model.parameters(), lr=learning_rate)"
   ]
  },
  {
   "cell_type": "markdown",
   "metadata": {},
   "source": [
    "And to iterate over the entire dataset to train on the above model architecture over 5 epochs,"
   ]
  },
  {
   "cell_type": "code",
   "execution_count": 59,
   "metadata": {},
   "outputs": [
    {
     "name": "stdout",
     "output_type": "stream",
     "text": [
      "Epoch: [1/5], Step: [100/937], Loss: 2.1838, Accuracy: 32.8125\n",
      "Epoch: [1/5], Step: [200/937], Loss: 2.1039, Accuracy: 51.5625\n",
      "Epoch: [1/5], Step: [300/937], Loss: 2.0263, Accuracy: 60.9375\n",
      "Epoch: [1/5], Step: [400/937], Loss: 1.9046, Accuracy: 68.7500\n",
      "Epoch: [1/5], Step: [500/937], Loss: 1.8845, Accuracy: 62.5000\n",
      "Epoch: [1/5], Step: [600/937], Loss: 1.7673, Accuracy: 70.3125\n",
      "Epoch: [1/5], Step: [700/937], Loss: 1.7025, Accuracy: 68.7500\n",
      "Epoch: [1/5], Step: [800/937], Loss: 1.6299, Accuracy: 75.0000\n",
      "Epoch: [1/5], Step: [900/937], Loss: 1.6878, Accuracy: 67.1875\n",
      "Epoch: [2/5], Step: [100/937], Loss: 1.5276, Accuracy: 76.5625\n",
      "Epoch: [2/5], Step: [200/937], Loss: 1.4900, Accuracy: 71.8750\n",
      "Epoch: [2/5], Step: [300/937], Loss: 1.4223, Accuracy: 68.7500\n",
      "Epoch: [2/5], Step: [400/937], Loss: 1.4780, Accuracy: 65.6250\n",
      "Epoch: [2/5], Step: [500/937], Loss: 1.3670, Accuracy: 82.8125\n",
      "Epoch: [2/5], Step: [600/937], Loss: 1.2659, Accuracy: 79.6875\n",
      "Epoch: [2/5], Step: [700/937], Loss: 1.2725, Accuracy: 76.5625\n",
      "Epoch: [2/5], Step: [800/937], Loss: 1.2072, Accuracy: 82.8125\n",
      "Epoch: [2/5], Step: [900/937], Loss: 1.3862, Accuracy: 75.0000\n",
      "Epoch: [3/5], Step: [100/937], Loss: 1.2231, Accuracy: 75.0000\n",
      "Epoch: [3/5], Step: [200/937], Loss: 1.1778, Accuracy: 82.8125\n",
      "Epoch: [3/5], Step: [300/937], Loss: 1.1860, Accuracy: 73.4375\n",
      "Epoch: [3/5], Step: [400/937], Loss: 1.0867, Accuracy: 85.9375\n",
      "Epoch: [3/5], Step: [500/937], Loss: 1.1736, Accuracy: 79.6875\n",
      "Epoch: [3/5], Step: [600/937], Loss: 1.1473, Accuracy: 78.1250\n",
      "Epoch: [3/5], Step: [700/937], Loss: 1.0460, Accuracy: 78.1250\n",
      "Epoch: [3/5], Step: [800/937], Loss: 1.0705, Accuracy: 78.1250\n",
      "Epoch: [3/5], Step: [900/937], Loss: 1.1145, Accuracy: 75.0000\n",
      "Epoch: [4/5], Step: [100/937], Loss: 0.9495, Accuracy: 81.2500\n",
      "Epoch: [4/5], Step: [200/937], Loss: 1.0087, Accuracy: 85.9375\n",
      "Epoch: [4/5], Step: [300/937], Loss: 0.7956, Accuracy: 87.5000\n",
      "Epoch: [4/5], Step: [400/937], Loss: 1.0361, Accuracy: 76.5625\n",
      "Epoch: [4/5], Step: [500/937], Loss: 0.9603, Accuracy: 76.5625\n",
      "Epoch: [4/5], Step: [600/937], Loss: 0.9454, Accuracy: 87.5000\n",
      "Epoch: [4/5], Step: [700/937], Loss: 0.8980, Accuracy: 79.6875\n",
      "Epoch: [4/5], Step: [800/937], Loss: 0.8341, Accuracy: 87.5000\n",
      "Epoch: [4/5], Step: [900/937], Loss: 0.8385, Accuracy: 84.3750\n",
      "Epoch: [5/5], Step: [100/937], Loss: 0.8759, Accuracy: 79.6875\n",
      "Epoch: [5/5], Step: [200/937], Loss: 0.8673, Accuracy: 89.0625\n",
      "Epoch: [5/5], Step: [300/937], Loss: 0.9490, Accuracy: 82.8125\n",
      "Epoch: [5/5], Step: [400/937], Loss: 1.0114, Accuracy: 75.0000\n",
      "Epoch: [5/5], Step: [500/937], Loss: 0.8745, Accuracy: 81.2500\n",
      "Epoch: [5/5], Step: [600/937], Loss: 0.9905, Accuracy: 79.6875\n",
      "Epoch: [5/5], Step: [700/937], Loss: 0.8755, Accuracy: 82.8125\n",
      "Epoch: [5/5], Step: [800/937], Loss: 0.8592, Accuracy: 81.2500\n",
      "Epoch: [5/5], Step: [900/937], Loss: 0.8330, Accuracy: 85.9375\n"
     ]
    }
   ],
   "source": [
    "# Hyperparameters\n",
    "num_epochs = 5\n",
    "print_every = 100\n",
    "\n",
    "# Metrics\n",
    "train_loss = []\n",
    "train_accu = []\n",
    "\n",
    "# Model train mode\n",
    "model.train()\n",
    "# Training the Model\n",
    "for epoch in range(num_epochs):\n",
    "    for i, (images, labels) in enumerate(train_loader):\n",
    "        # image unrolling\n",
    "        images = Variable(images.view(-1, 28*28))\n",
    "        labels = Variable(labels)\n",
    "        \n",
    "        if cuda:\n",
    "            images, labels = images.cuda(), labels.cuda()\n",
    "        \n",
    "        # Forward + Backward + Optimize\n",
    "        optimizer.zero_grad()\n",
    "        outputs = model(images)\n",
    "        loss = loss_fn(outputs, labels)\n",
    "        \n",
    "        # Load loss on CPU\n",
    "        if cuda:\n",
    "            loss.cpu()\n",
    "        loss.backward()\n",
    "        optimizer.step()\n",
    "        \n",
    "        ### Keep track of metric every batch\n",
    "        # Loss Metric\n",
    "        train_loss.append(loss.data[0])\n",
    "        # Accuracy Metric\n",
    "        prediction = outputs.data.max(1)[1]   # first column has actual prob.\n",
    "        accuracy = prediction.eq(labels.data).sum()/batch_size*100\n",
    "        train_accu.append(accuracy)\n",
    "        \n",
    "        # Log\n",
    "        if (i+1) % print_every == 0:\n",
    "            print ('Epoch: [%d/%d], Step: [%d/%d], Loss: %.4f, Accuracy: %.4f' \n",
    "                   % (epoch+1, num_epochs, i+1, len(train_dataset)//batch_size, loss.data[0], accuracy))"
   ]
  },
  {
   "cell_type": "markdown",
   "metadata": {},
   "source": [
    "After training is used to plot the Loss and Accuracy given time:"
   ]
  },
  {
   "cell_type": "code",
   "execution_count": 60,
   "metadata": {},
   "outputs": [
    {
     "data": {
      "text/plain": [
       "[<matplotlib.lines.Line2D at 0x7f18dd145518>]"
      ]
     },
     "execution_count": 60,
     "metadata": {},
     "output_type": "execute_result"
    },
    {
     "data": {
      "image/png": "[encoded data removed]",
      "text/plain": [
       "<matplotlib.figure.Figure at 0x7f18dd145438>"
      ]
     },
     "metadata": {},
     "output_type": "display_data"
    }
   ],
   "source": [
    "plt.xlabel(\"Steps\")\n",
    "plt.ylabel(\"Loss\")\n",
    "plt.title(\"Loss function over time\")\n",
    "plt.plot(np.arange(len(train_loss)), train_loss)"
   ]
  },
  {
   "cell_type": "code",
   "execution_count": 61,
   "metadata": {},
   "outputs": [
    {
     "data": {
      "text/plain": [
       "[<matplotlib.lines.Line2D at 0x7f18dd7b3c88>]"
      ]
     },
     "execution_count": 61,
     "metadata": {},
     "output_type": "execute_result"
    },
    {
     "data": {
      "image/png": "[encoded data removed]",
      "text/plain": [
       "<matplotlib.figure.Figure at 0x7f18dd0c7c18>"
      ]
     },
     "metadata": {},
     "output_type": "display_data"
    }
   ],
   "source": [
    "plt.xlabel(\"Steps\")\n",
    "plt.ylabel(\"Accuracy\")\n",
    "plt.title(\"Accuracy function over time\")\n",
    "plt.plot(np.arange(len(train_accu)), train_accu)"
   ]
  },
  {
   "cell_type": "markdown",
   "metadata": {},
   "source": [
    "We encourage you to try tinkering with the hyperparamters to retrain the whole thing yourself and see what improvements you might get. You may as well want to try out different optimizers!"
   ]
  },
  {
   "cell_type": "markdown",
   "metadata": {},
   "source": [
    "## Evaluate\n",
    "\n",
    "Let's evaluate our model on test set."
   ]
  },
  {
   "cell_type": "code",
   "execution_count": 62,
   "metadata": {},
   "outputs": [
    {
     "name": "stdout",
     "output_type": "stream",
     "text": [
      "\n",
      "Test set: Accuracy: 84.32%\n"
     ]
    }
   ],
   "source": [
    "model.eval()\n",
    "correct = 0\n",
    "for data, target in test_loader:\n",
    "    data, target = Variable(data.view(-1, 28*28), volatile=True), Variable(target)\n",
    "    if cuda:\n",
    "        data, target = data.cuda(), target.cuda()\n",
    "    output = model(data)\n",
    "    # Load output on CPU\n",
    "    if cuda:\n",
    "        output.cpu()\n",
    "    prediction = output.data.max(1)[1]\n",
    "    correct += prediction.eq(target.data).sum()\n",
    "\n",
    "print('\\nTest set: Accuracy: {:.2f}%'.format(100. * correct / len(test_loader.dataset)))"
   ]
  },
  {
   "cell_type": "code",
   "execution_count": 34,
   "metadata": {},
   "outputs": [
    {
     "data": {
      "image/png": "[encoded data removed]",
      "text/plain": [
       "<matplotlib.figure.Figure at 0x7fa373664ba8>"
      ]
     },
     "metadata": {},
     "output_type": "display_data"
    }
   ],
   "source": [
    "# Test Label\n",
    "\n",
    "# Hyperparameter\n",
    "batch_size = 10\n",
    "\n",
    "# Testing Dataset Loader (Input Pipline)\n",
    "test_loader = torch.utils.data.DataLoader(dataset=test_dataset, \n",
    "                                          batch_size=batch_size, \n",
    "                                          shuffle=False)\n",
    "\n",
    "# Plot a grid of images\n",
    "def imshow(inp_tensor, title):\n",
    "    \"\"\"image show for Tensor\"\"\"\n",
    "    img = inp_tensor.numpy().transpose((1, 2, 0))\n",
    "    plt.imshow(img)\n",
    "    if title is not None:\n",
    "        plt.title(title)\n",
    "    plt.pause(0.001)\n",
    "\n",
    "# Get a batch\n",
    "testset_iter = iter(test_loader)\n",
    "images, labels = testset_iter.next()\n",
    "# show images\n",
    "batch_imgs = make_grid(images, nrow=batch_size)\n",
    "plt.axis('off')\n",
    "imshow(batch_imgs, title=[x for x in labels])"
   ]
  },
  {
   "cell_type": "code",
   "execution_count": 35,
   "metadata": {},
   "outputs": [
    {
     "data": {
      "image/png": "[encoded data removed]",
      "text/plain": [
       "<matplotlib.figure.Figure at 0x7fa3733e0ba8>"
      ]
     },
     "metadata": {},
     "output_type": "display_data"
    }
   ],
   "source": [
    "# Result from Training\n",
    "\n",
    "input = Variable(images.view(-1, 28*28), volatile=True)\n",
    "if cuda:\n",
    "    input = input.cuda()\n",
    "output = model(input)\n",
    "# Load output on CPU\n",
    "if cuda:\n",
    "    output.cpu()\n",
    "    \n",
    "plt.axis('off')\n",
    "imshow(batch_imgs, title=[x for x in output.data.max(1)[1]])"
   ]
  },
  {
   "cell_type": "markdown",
   "metadata": {
    "collapsed": true
   },
   "source": [
    "## Artificial Neural networks\n",
    "\n",
    "So until now, you've seen how a machine **learns** by reiterating over the input data over & over & minimizing a `loss` function. Neural Networks behave much in the same way but are **structurally** different from linear models like Logistic Regression. Neural Networks tend to introduce a **non-linearity** in the form a mathematical transformation as the input data is processed. What we want you to do here now is, compare the following snippet of code below to the one defined above for Logistic Regression,\n",
    "\n",
    "```python\n",
    "model = nn.Sequential(\n",
    "    nn.Linear(D_in, H), #Layer 1 : Input Layer\n",
    "    nn.ReLU(), # Activation Function\n",
    "    nn.Linear(H, D_out), # Layer 3 : Output Layer\n",
    ")\n",
    "```\n",
    "Do you see any difference? Instead of simply creating a linearized equation i.e `y = W.x + b`, our equation will be of the form, `y = W.(ReLU(W_.x + b_) + b)`. It is interesting to know that `H` here represents the **hidden weights** or intermediate values while `ReLU` or [Rectified Linear Unit](https://en.wikipedia.org/wiki/Ramp_function) is the introduced non-linearity. This brief introduction to Neural Nets will about their structural component & not the historical motivations behind them. However, if you do wish to explore more about vanilla neural network architecture, Keno Leon does a fantastic job of explaining them through his doodles in [this medium article](https://becominghuman.ai/making-a-simple-neural-network-2ea1de81ec20).\n",
    "\n",
    "For the time being, let's just say a **Neuron** is something that holds a real valued number. And for the task at hand, we have 784 `[28 x 28]` of these Neurons as input. Let's call the values held by these Neurons as thier **Activations** & represent how positive or negative is the relevant weighted sum of inputs to that Neuron is, as the data flows through the network. These 784 Neurons make up the first layer of our network.\n",
    "\n",
    "<p align=\"center\">\n",
    "<img src=\"https://ml4a.github.io/images/figures/mnist_1layer.png\"/>\n",
    "</p>\n",
    "\n",
    "Similar to Logistic Regression, the last layer in the network is simply a vector of 10 Neurons holding Activations that represent the **probability** of an image belonging to a particular class; in this case, a digit. Remember, activations in one layer determine activations in the next layer.\n",
    "\n",
    "**So what are hidden layers for?** Our best hope with a non-linear layered architecture is that specific Neurons in each layer of the network are able to detect certain patters in the input data & get activated accordingly. That is to say, certain Neurons in Hidden Layer 1 might be activated by straight lines, some other Neurons in Hidden Layer 2 might get activated by by contours. Imagine how detecting shapes & contours might be helpful for image recognition tasks. Even the task of parsing speech breaks down into layers of abstraction i.e distinct sounds to words to sentences to phrases to thoughts!\n",
    "\n",
    "<p align=\"center\">\n",
    "<img src= \"http://neuralnetworksanddeeplearning.com/images/tikz12.png\"/>\n",
    "</p>\n",
    "\n",
    "Each Neuron in the hidden layer is connected to all 784 pixel Nuerons from the input layer. And each of those 784 connections have their own weights & some [biases](https://stackoverflow.com/questions/2480650/role-of-bias-in-neural-networks). So for 16-Neuron hidden layer, we have `784 x 16 + 16` weights and biases. And the learning process tends to find the right balance of weights & biases so that it solves the problem at hand. And that's just the first Hidden Layer! See why we need all that GPU compute we spoke about in the introduction?"
   ]
  },
  {
   "cell_type": "markdown",
   "metadata": {},
   "source": [
    "### Let's Get Started!\n",
    "\n",
    "Now that we've defined in some detail how a neural network functions, let's code a simple one in PyTorch & see how well it does on the MNIST task."
   ]
  },
  {
   "cell_type": "code",
   "execution_count": 6,
   "metadata": {
    "collapsed": true
   },
   "outputs": [],
   "source": [
    "# Hyperparameters\n",
    "input_size = 784 # 28 * 28\n",
    "hidden_size = 16 #Something you can experiment with\n",
    "num_classes = 10 # Output classes\n",
    "learning_rate = 1e-3\n",
    "\n",
    "#### Weight Init ####\n",
    "# See Exercices at the end of the Notebook\n",
    "\n",
    "\n",
    "#### Model ####\n",
    "# One Hidden Layer Neural Network Model\n",
    "class Net(nn.Module):\n",
    "    def __init__(self, input_size, hidden_size, num_classes):\n",
    "        super(Net, self).__init__()\n",
    "        self.fc1 = nn.Linear(input_size, hidden_size)  # Feed in Matrix of Dim [784 x 16]\n",
    "        self.relu = nn.ReLU() # max(fc1(x),0)\n",
    "        self.fc2 = nn.Linear(hidden_size, num_classes)  # Output's Dim [16 x 10]\n",
    "    def forward(self, x):\n",
    "        out = self.fc1(x)\n",
    "        out = self.relu(out)\n",
    "        out = self.fc2(out)\n",
    "        return out\n",
    "\n",
    "model = Net(input_size, hidden_size, num_classes)\n",
    "\n",
    "# If you are running a GPU instance, load the model on GPU\n",
    "if cuda:\n",
    "    model.cuda()  \n",
    "    \n",
    "#### Loss and Optimizer ####\n",
    "loss_fn = nn.CrossEntropyLoss()\n",
    "# If you are running a GPU instance, compute the loss on GPU\n",
    "if cuda:\n",
    "    loss_fn.cuda()\n",
    "\n",
    "# Feeding model params to the optimizer\n",
    "optimizer = torch.optim.Adam(model.parameters(), lr=learning_rate)"
   ]
  },
  {
   "cell_type": "markdown",
   "metadata": {},
   "source": [
    "The snippet above defines a simple single layer neural network with a forward pass on the input with Cross Entropy Loss as the loss function. Training is very similar to what we did in the first section of the article,"
   ]
  },
  {
   "cell_type": "code",
   "execution_count": 7,
   "metadata": {},
   "outputs": [
    {
     "name": "stdout",
     "output_type": "stream",
     "text": [
      "Epoch: [1/5], Step: [100/937], Loss: 0.9907, Accuracy: 78.1250\n",
      "Epoch: [1/5], Step: [200/937], Loss: 0.6148, Accuracy: 81.2500\n",
      "Epoch: [1/5], Step: [300/937], Loss: 0.5220, Accuracy: 85.9375\n",
      "Epoch: [1/5], Step: [400/937], Loss: 0.4350, Accuracy: 85.9375\n",
      "Epoch: [1/5], Step: [500/937], Loss: 0.2748, Accuracy: 92.1875\n",
      "Epoch: [1/5], Step: [600/937], Loss: 0.5882, Accuracy: 84.3750\n",
      "Epoch: [1/5], Step: [700/937], Loss: 0.3247, Accuracy: 92.1875\n",
      "Epoch: [1/5], Step: [800/937], Loss: 0.2954, Accuracy: 90.6250\n",
      "Epoch: [1/5], Step: [900/937], Loss: 0.1762, Accuracy: 96.8750\n",
      "Epoch: [2/5], Step: [100/937], Loss: 0.4476, Accuracy: 90.6250\n",
      "Epoch: [2/5], Step: [200/937], Loss: 0.3355, Accuracy: 87.5000\n",
      "Epoch: [2/5], Step: [300/937], Loss: 0.2315, Accuracy: 96.8750\n",
      "Epoch: [2/5], Step: [400/937], Loss: 0.3259, Accuracy: 93.7500\n",
      "Epoch: [2/5], Step: [500/937], Loss: 0.1926, Accuracy: 95.3125\n",
      "Epoch: [2/5], Step: [600/937], Loss: 0.3357, Accuracy: 92.1875\n",
      "Epoch: [2/5], Step: [700/937], Loss: 0.4145, Accuracy: 89.0625\n",
      "Epoch: [2/5], Step: [800/937], Loss: 0.2321, Accuracy: 92.1875\n",
      "Epoch: [2/5], Step: [900/937], Loss: 0.2447, Accuracy: 92.1875\n",
      "Epoch: [3/5], Step: [100/937], Loss: 0.3263, Accuracy: 90.6250\n",
      "Epoch: [3/5], Step: [200/937], Loss: 0.3489, Accuracy: 90.6250\n",
      "Epoch: [3/5], Step: [300/937], Loss: 0.1923, Accuracy: 96.8750\n",
      "Epoch: [3/5], Step: [400/937], Loss: 0.2726, Accuracy: 92.1875\n",
      "Epoch: [3/5], Step: [500/937], Loss: 0.2625, Accuracy: 90.6250\n",
      "Epoch: [3/5], Step: [600/937], Loss: 0.0858, Accuracy: 98.4375\n",
      "Epoch: [3/5], Step: [700/937], Loss: 0.1695, Accuracy: 96.8750\n",
      "Epoch: [3/5], Step: [800/937], Loss: 0.3941, Accuracy: 87.5000\n",
      "Epoch: [3/5], Step: [900/937], Loss: 0.2117, Accuracy: 92.1875\n",
      "Epoch: [4/5], Step: [100/937], Loss: 0.2456, Accuracy: 93.7500\n",
      "Epoch: [4/5], Step: [200/937], Loss: 0.2368, Accuracy: 93.7500\n",
      "Epoch: [4/5], Step: [300/937], Loss: 0.1201, Accuracy: 96.8750\n",
      "Epoch: [4/5], Step: [400/937], Loss: 0.3481, Accuracy: 90.6250\n",
      "Epoch: [4/5], Step: [500/937], Loss: 0.3106, Accuracy: 90.6250\n",
      "Epoch: [4/5], Step: [600/937], Loss: 0.1192, Accuracy: 96.8750\n",
      "Epoch: [4/5], Step: [700/937], Loss: 0.4230, Accuracy: 90.6250\n",
      "Epoch: [4/5], Step: [800/937], Loss: 0.2355, Accuracy: 92.1875\n",
      "Epoch: [4/5], Step: [900/937], Loss: 0.2132, Accuracy: 90.6250\n",
      "Epoch: [5/5], Step: [100/937], Loss: 0.2421, Accuracy: 92.1875\n",
      "Epoch: [5/5], Step: [200/937], Loss: 0.3308, Accuracy: 87.5000\n",
      "Epoch: [5/5], Step: [300/937], Loss: 0.0910, Accuracy: 100.0000\n",
      "Epoch: [5/5], Step: [400/937], Loss: 0.1531, Accuracy: 95.3125\n",
      "Epoch: [5/5], Step: [500/937], Loss: 0.3102, Accuracy: 90.6250\n",
      "Epoch: [5/5], Step: [600/937], Loss: 0.1822, Accuracy: 93.7500\n",
      "Epoch: [5/5], Step: [700/937], Loss: 0.3090, Accuracy: 92.1875\n",
      "Epoch: [5/5], Step: [800/937], Loss: 0.2110, Accuracy: 93.7500\n",
      "Epoch: [5/5], Step: [900/937], Loss: 0.1620, Accuracy: 93.7500\n"
     ]
    }
   ],
   "source": [
    "# Hyperparameters\n",
    "num_epochs = 5\n",
    "print_every = 100\n",
    "\n",
    "# Metrics\n",
    "train_loss = []\n",
    "train_accu = []\n",
    "\n",
    "# Model train mode\n",
    "model.train()\n",
    "# Training the Model\n",
    "for epoch in range(num_epochs):\n",
    "    for i, (images, labels) in enumerate(train_loader):\n",
    "        # image unrolling\n",
    "        images = Variable(images.view(-1, 28*28))\n",
    "        labels = Variable(labels)\n",
    "        \n",
    "        if cuda:\n",
    "            images, labels = images.cuda(), labels.cuda()\n",
    "        \n",
    "        # Forward + Backward + Optimize\n",
    "        optimizer.zero_grad()\n",
    "        outputs = model(images)\n",
    "        loss = loss_fn(outputs, labels)\n",
    "        \n",
    "        # Load loss on CPU\n",
    "        if cuda:\n",
    "            loss.cpu()\n",
    "        loss.backward()\n",
    "        optimizer.step()\n",
    "        \n",
    "        ### Keep track of metric every batch\n",
    "        # Loss Metric\n",
    "        train_loss.append(loss.data[0])\n",
    "        # Accuracy Metric\n",
    "        prediction = outputs.data.max(1)[1]   # first column has actual prob.\n",
    "        accuracy = prediction.eq(labels.data).sum()/batch_size*100\n",
    "        train_accu.append(accuracy)\n",
    "        \n",
    "        # Log\n",
    "        if (i+1) % print_every == 0:\n",
    "            print ('Epoch: [%d/%d], Step: [%d/%d], Loss: %.4f, Accuracy: %.4f' \n",
    "                   % (epoch+1, num_epochs, i+1, len(train_dataset)//batch_size, loss.data[0], accuracy))"
   ]
  },
  {
   "cell_type": "markdown",
   "metadata": {},
   "source": [
    "After training is used to plot the Loss and Accuracy given time:"
   ]
  },
  {
   "cell_type": "code",
   "execution_count": 8,
   "metadata": {},
   "outputs": [
    {
     "data": {
      "text/plain": [
       "[<matplotlib.lines.Line2D at 0x7fcb99fc4048>]"
      ]
     },
     "execution_count": 8,
     "metadata": {},
     "output_type": "execute_result"
    },
    {
     "data": {
      "image/png": "[encoded data removed]",
      "text/plain": [
       "<matplotlib.figure.Figure at 0x7fcb99fc4198>"
      ]
     },
     "metadata": {},
     "output_type": "display_data"
    }
   ],
   "source": [
    "plt.xlabel(\"Steps\")\n",
    "plt.ylabel(\"Loss\")\n",
    "plt.title(\"Loss function over time\")\n",
    "plt.plot(np.arange(len(train_loss)), train_loss)"
   ]
  },
  {
   "cell_type": "code",
   "execution_count": 9,
   "metadata": {},
   "outputs": [
    {
     "data": {
      "text/plain": [
       "[<matplotlib.lines.Line2D at 0x7fcb86ebd710>]"
      ]
     },
     "execution_count": 9,
     "metadata": {},
     "output_type": "execute_result"
    },
    {
     "data": {
      "image/png": "[encoded data removed]",
      "text/plain": [
       "<matplotlib.figure.Figure at 0x7fcb86ebd860>"
      ]
     },
     "metadata": {},
     "output_type": "display_data"
    }
   ],
   "source": [
    "plt.xlabel(\"Steps\")\n",
    "plt.ylabel(\"Accuracy\")\n",
    "plt.title(\"Accuracy function over time\")\n",
    "plt.plot(np.arange(len(train_accu)), train_accu)"
   ]
  },
  {
   "cell_type": "markdown",
   "metadata": {},
   "source": [
    "We train our model for five epochs by feeding in `image , label` pairs, doing a forward pass over the image with initial weights of the Neurons & then backpropagating through gradient computation to update those weights with the help of an optimizer (Adam), to make the model more & more accurate after each iteration."
   ]
  },
  {
   "cell_type": "markdown",
   "metadata": {},
   "source": [
    "## Evaluate\n",
    "\n",
    "Let's evaluate our model on test set."
   ]
  },
  {
   "cell_type": "code",
   "execution_count": 10,
   "metadata": {},
   "outputs": [
    {
     "name": "stdout",
     "output_type": "stream",
     "text": [
      "\n",
      "Test set: Accuracy: 93.89%\n"
     ]
    }
   ],
   "source": [
    "model.eval()\n",
    "correct = 0\n",
    "for data, target in test_loader:\n",
    "    data, target = Variable(data.view(-1, 28*28), volatile=True), Variable(target)\n",
    "    if cuda:\n",
    "        data, target = data.cuda(), target.cuda()\n",
    "    output = model(data)\n",
    "    # Load output on CPU\n",
    "    if cuda:\n",
    "        output.cpu()\n",
    "    prediction = output.data.max(1)[1]\n",
    "    correct += prediction.eq(target.data).sum()\n",
    "\n",
    "print('\\nTest set: Accuracy: {:.2f}%'.format(100. * correct / len(test_loader.dataset)))"
   ]
  },
  {
   "cell_type": "code",
   "execution_count": 70,
   "metadata": {},
   "outputs": [
    {
     "data": {
      "image/png": "[encoded data removed]",
      "text/plain": [
       "<matplotlib.figure.Figure at 0x7f1e54fce710>"
      ]
     },
     "metadata": {},
     "output_type": "display_data"
    }
   ],
   "source": [
    "# Test Label\n",
    "\n",
    "# Hyperparameter\n",
    "batch_size = 10\n",
    "\n",
    "# Testing Dataset Loader (Input Pipline)\n",
    "test_loader = torch.utils.data.DataLoader(dataset=test_dataset, \n",
    "                                          batch_size=batch_size, \n",
    "                                          shuffle=False)\n",
    "\n",
    "# Plot a grid of images\n",
    "def imshow(inp_tensor, title):\n",
    "    \"\"\"image show for Tensor\"\"\"\n",
    "    img = inp_tensor.numpy().transpose((1, 2, 0))\n",
    "    plt.imshow(img)\n",
    "    if title is not None:\n",
    "        plt.title(title)\n",
    "    plt.pause(0.001)\n",
    "\n",
    "# Get a batch\n",
    "testset_iter = iter(test_loader)\n",
    "images, labels = testset_iter.next()\n",
    "# show images\n",
    "batch_imgs = make_grid(images, nrow=batch_size)\n",
    "plt.axis('off')\n",
    "imshow(batch_imgs, title=[x for x in labels])"
   ]
  },
  {
   "cell_type": "code",
   "execution_count": 50,
   "metadata": {},
   "outputs": [
    {
     "data": {
      "image/png": "[encoded data removed]",
      "text/plain": [
       "<matplotlib.figure.Figure at 0x7f1e67aa8e48>"
      ]
     },
     "metadata": {},
     "output_type": "display_data"
    }
   ],
   "source": [
    "# Result from Training\n",
    "\n",
    "input = Variable(images.view(-1, 28*28), volatile=True)\n",
    "if cuda:\n",
    "    input = input.cuda()\n",
    "output = model(input)\n",
    "# Load output on CPU\n",
    "if cuda:\n",
    "    output.cpu()\n",
    "    \n",
    "plt.axis('off')\n",
    "imshow(batch_imgs, title=[x for x in output.data.max(1)[1]])"
   ]
  },
  {
   "cell_type": "markdown",
   "metadata": {},
   "source": [
    "### Results: Neural Network\n",
    "\n",
    "As you can see, with a test accuracy of 97%, a simple Neural Network far outweighs the Logistic Regression! Imagine what we could possibly do if we had a dedicated Neural Network architecture for processing images (and we do!)."
   ]
  },
  {
   "cell_type": "markdown",
   "metadata": {},
   "source": [
    "### NN Experiments Exercices\n",
    "\n",
    "ML/DL is empiric field, so let' make some experiments and see how the loss and accuracy change tuning different hyperparameters:\n",
    "\n",
    "#### Change Weight Init\n",
    "\n",
    "Most of the time providing a good staring point in an Optimization problem is half of the work, so take the Logistic Regression Model and init the weight with Xavier initialization and bias from a Uniform distribution\n",
    "\n",
    "Define this function befor the model \n",
    "```python\n",
    "# Xavier Uniform Init\n",
    "def weights_init(m):\n",
    "    if isinstance(m, nn.Linear):\n",
    "        nn.init.xavier_uniform(m.weight.data)\n",
    "        nn.init.uniform(m.bias.data)\n",
    "```\n",
    "Then apply the weight init after builiding the model with\n",
    "\n",
    "```python\n",
    "model = Model() # generate an instance model from the Model class\n",
    "model.apply(weights_init) # apply weight init\n",
    "```\n",
    "\n",
    "This experiments should provide an accuracy about 83.3% for LR and about 94.7% for NN. Not bad, but we have not improved the baseline for LR which was about 84.3%, while we have improved the NN baseline of 0.7% points.\n",
    "\n",
    "#### Try Swish or others Activation Functions\n",
    "\n",
    "What if we change ReLu with swish, sigmoid or tanh? Even the activation function can dramatically change the training, first of all replace ReLu with Sigmoid, then with tanh and finally with Swish.\n",
    "\n",
    "Sigmoid | Tanh | ReLU | Swish\n",
    "--------|------|------|------\n",
    "92.84% | 94.21% | 93.89% | 94.42%\n",
    "\n",
    "At this writing PyTorch does not provide Swish natively so you have to create a new Class which inherit from torch.autograd.Function and define 2 method, one for the forward step and the other one for the backward step. We have provided to you the Swish class, you have only to adapt the model.\n",
    "\n",
    "```pyhton\n",
    "class Swish(torch.autograd.Function):\n",
    "    @staticmethod\n",
    "    def forward(ctx, i):\n",
    "        result = i*i.sigmoid()\n",
    "        ctx.save_for_backward(result,i)\n",
    "        return result\n",
    "\n",
    "    @staticmethod\n",
    "    def backward(ctx, grad_output):\n",
    "        result,i = ctx.saved_variables\n",
    "        sigmoid_x = i.sigmoid()\n",
    "        return grad_output * (result+sigmoid_x*(1-result))\n",
    "        \n",
    "...\n",
    "\n",
    "\n",
    "class YourModel(nn.Module):\n",
    "    # create a Swish instance\n",
    "    def __init__(self, ..):\n",
    "        ...\n",
    "        self.swish = Swish.apply\n",
    "        ...\n",
    "    # Compute the forward pass\n",
    "    def forward(self, ..):\n",
    "        ...\n",
    "        out = self.swish(x)\n",
    "        ...\n",
    "    \n",
    "```\n",
    "\n",
    "About sigmoid and tanh you have to define the nn.functional.tanh/sigmoid step in the forward function.\n",
    "\n",
    "#### Add more layers or change the number of units in the hidden layer\n",
    "\n",
    "Replace the number of hidden units in the hidden layer with 50, the accuracy should be around 96.78%. In this way we are improving the model capacity. Same will happen if we add more layers! Keep in mind that having a more deeper model can also increase the chance to overfit and degrade the generalization peformance of the model\n"
   ]
  },
  {
   "cell_type": "markdown",
   "metadata": {},
   "source": [
    "## Summary\n",
    "\n",
    "That's all for now. Now it's your turn to experiment with this simple network architecture by adding more layers, optimizers or maybe experiment with [regualizers](https://en.wikipedia.org/wiki/Overfitting). It may not seem much at first, but if you've followed along thoroughly & implemented the aforementioned task yourself, you've learned a lot! In the next couple of articles we'll be covering slightly advanced concepts related to Deep Learning & you'll see some of the most powerful applications of it in action. Stay tuned!"
   ]
  },
  {
   "cell_type": "markdown",
   "metadata": {},
   "source": [
    "## Next Up: Convolutional Neural Network\n",
    "\n",
    "<p align=\"center\">\n",
    "<img src=\"https://www.mathworks.com/content/mathworks/www/en/discovery/convolutional-neural-network/_jcr_content/mainParsys/image.img.jpg/1508999490105.jpg\"/>\n",
    "</p>\n",
    "\n",
    "CNNs represent the best of Deep Learning in Computer Vision. They have wide applications is image & video recognition, recommender systems & natural language processing. In the next article we'll cover the basics of CNN & see how they boost state-of-the-art results in image classification. Since CNNs are slightly more complex than generic multi-layer perceptrons we've built until now, if you feel curious, you can read about them on [Christopher Olah's blog](http://colah.github.io/posts/2014-07-Conv-Nets-Modular/) before moving on & implementing one with us on your own."
   ]
  },
  {
   "cell_type": "code",
   "execution_count": null,
   "metadata": {
    "collapsed": true
   },
   "outputs": [],
   "source": []
  }
 ],
 "metadata": {
  "kernelspec": {
   "display_name": "Python 3",
   "language": "python",
   "name": "python3"
  },
  "language_info": {
   "codemirror_mode": {
    "name": "ipython",
    "version": 3
   },
   "file_extension": ".py",
   "mimetype": "text/x-python",
   "name": "python",
   "nbconvert_exporter": "python",
   "pygments_lexer": "ipython3",
   "version": "3.5.3"
  }
 },
 "nbformat": 4,
 "nbformat_minor": 2
}
