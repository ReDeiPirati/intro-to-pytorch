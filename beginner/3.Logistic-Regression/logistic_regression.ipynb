{
 "cells": [
  {
   "cell_type": "markdown",
   "metadata": {},
   "source": [
    "# FloyHub introduction to Deep Learning: Linear Regression"
   ]
  },
  {
   "cell_type": "markdown",
   "metadata": {},
   "source": [
    "### Abstract\n",
    "It’s Time to fire up the torch, we will cover the basic concept of ML to solve the hello world of ML: predict house estimation given square feet. Then we move on another classical: the handwritten digit recognition with Logistic Regression. *It’s ML time*.\n",
    "\n",
    "## Introduction\n",
    "We are going to solve an overly simple, and unrealistic problem, which has the upside of making understanding the concepts of ML and PyTorch easy. We want to predict a single scalar outcome, house price (in $) based on a single feature, house size (in square meters, sqm). This eradicates the need to handle multi-dimensional data, enabling us to focus solely on defining a model, implementing, and training it in PyTorch."
   ]
  },
  {
   "cell_type": "markdown",
   "metadata": {},
   "source": [
    "### Table of Contents\n",
    "\n",
    "- ML Hello World\n",
    "- Collect a Dataset\n",
    "- Choose a Model (sub paraghaps)\n",
    "- Train\n",
    "- Evaluate\n",
    "- Summary"
   ]
  },
  {
   "cell_type": "markdown",
   "metadata": {},
   "source": [
    "## The ML Hello World\n",
    "\n",
    "We start with a set of data points that we have collected (chart below), each representing the relationship between two values —an outcome (house price) and the influencing feature (house size).\n",
    "\n",
    "![img - dataset](https://cdn-images-1.medium.com/max/1280/1*wcivD-w2dNHR7L3JUKwbhQ.png)\n",
    "\n",
    "However, we cannot predict values for features that we don’t have data points for (chart below)\n",
    "\n",
    "![img - how can we predict a new value given sqm](https://cdn-images-1.medium.com/max/1280/1*GH-vC3HDd01UFjjjCVMQlA.png)\n",
    "\n",
    "We can use ML to discover the relationship (the ‘best-fit prediction line’ in the chart below), such that given a feature value that is not part of the data points, we can predict the outcome accurately (the intersection between the feature value and the prediction line.\n",
    "\n",
    "![img - how can we predict a new value given sqm - visual solution](https://cdn-images-1.medium.com/max/1280/1*LMIk7UyRhz4ObI2FWX_75Q.png)"
   ]
  },
  {
   "cell_type": "markdown",
   "metadata": {},
   "source": [
    "## Collect a Dataset\n",
    "\n",
    "One of the most time and resource consuming task of every ML/DL workflow is to collect [high quality] dataset. What can we do? Well first of all you can Explore our datasets, otherwise you can search throught Internet. \n",
    "Luckily Kaggle has provided a great dataset of sold houses in King County from May 2014 to 2015, we have already uploaded it for you so that you can immediatly start to play.\n",
    "\n",
    "Let’s take a look about this dataset:\n"
   ]
  },
  {
   "cell_type": "code",
   "execution_count": 28,
   "metadata": {
    "collapsed": true
   },
   "outputs": [],
   "source": [
    "import torch\n",
    "import numpy as np\n",
    "import pandas as pd\n",
    "import matplotlib.pyplot as plt\n",
    "%matplotlib inline\n",
    "\n",
    "cuda = torch.cuda.is_available()"
   ]
  },
  {
   "cell_type": "code",
   "execution_count": 47,
   "metadata": {},
   "outputs": [
    {
     "name": "stdout",
     "output_type": "stream",
     "text": [
      "557500.0\n",
      "3350\n"
     ]
    }
   ],
   "source": [
    "# The dataset is mounted in the /input path\n",
    "data = pd.read_csv(\"/input/kc_house_data.csv\")\n",
    "# Return the first n=5 rows\n",
    "data.head(n=5)\n",
    "\n",
    "print (data['price'][21414])\n",
    "print (data['sqft_living'][21414])"
   ]
  },
  {
   "cell_type": "code",
   "execution_count": 7,
   "metadata": {},
   "outputs": [
    {
     "data": {
      "text/html": [
       "<div>\n",
       "<style>\n",
       "    .dataframe thead tr:only-child th {\n",
       "        text-align: right;\n",
       "    }\n",
       "\n",
       "    .dataframe thead th {\n",
       "        text-align: left;\n",
       "    }\n",
       "\n",
       "    .dataframe tbody tr th {\n",
       "        vertical-align: top;\n",
       "    }\n",
       "</style>\n",
       "<table border=\"1\" class=\"dataframe\">\n",
       "  <thead>\n",
       "    <tr style=\"text-align: right;\">\n",
       "      <th></th>\n",
       "      <th>id</th>\n",
       "      <th>price</th>\n",
       "      <th>bedrooms</th>\n",
       "      <th>bathrooms</th>\n",
       "      <th>sqft_living</th>\n",
       "      <th>sqft_lot</th>\n",
       "      <th>floors</th>\n",
       "      <th>waterfront</th>\n",
       "      <th>view</th>\n",
       "      <th>condition</th>\n",
       "      <th>grade</th>\n",
       "      <th>sqft_above</th>\n",
       "      <th>sqft_basement</th>\n",
       "      <th>yr_built</th>\n",
       "      <th>yr_renovated</th>\n",
       "      <th>zipcode</th>\n",
       "      <th>lat</th>\n",
       "      <th>long</th>\n",
       "      <th>sqft_living15</th>\n",
       "      <th>sqft_lot15</th>\n",
       "    </tr>\n",
       "  </thead>\n",
       "  <tbody>\n",
       "    <tr>\n",
       "      <th>count</th>\n",
       "      <td>2.161300e+04</td>\n",
       "      <td>2.161300e+04</td>\n",
       "      <td>21613.000000</td>\n",
       "      <td>21613.000000</td>\n",
       "      <td>21613.000000</td>\n",
       "      <td>2.161300e+04</td>\n",
       "      <td>21613.000000</td>\n",
       "      <td>21613.000000</td>\n",
       "      <td>21613.000000</td>\n",
       "      <td>21613.000000</td>\n",
       "      <td>21613.000000</td>\n",
       "      <td>21613.000000</td>\n",
       "      <td>21613.000000</td>\n",
       "      <td>21613.000000</td>\n",
       "      <td>21613.000000</td>\n",
       "      <td>21613.000000</td>\n",
       "      <td>21613.000000</td>\n",
       "      <td>21613.000000</td>\n",
       "      <td>21613.000000</td>\n",
       "      <td>21613.000000</td>\n",
       "    </tr>\n",
       "    <tr>\n",
       "      <th>mean</th>\n",
       "      <td>4.580302e+09</td>\n",
       "      <td>5.400881e+05</td>\n",
       "      <td>3.370842</td>\n",
       "      <td>2.114757</td>\n",
       "      <td>2079.899736</td>\n",
       "      <td>1.510697e+04</td>\n",
       "      <td>1.494309</td>\n",
       "      <td>0.007542</td>\n",
       "      <td>0.234303</td>\n",
       "      <td>3.409430</td>\n",
       "      <td>7.656873</td>\n",
       "      <td>1788.390691</td>\n",
       "      <td>291.509045</td>\n",
       "      <td>1971.005136</td>\n",
       "      <td>84.402258</td>\n",
       "      <td>98077.939805</td>\n",
       "      <td>47.560053</td>\n",
       "      <td>-122.213896</td>\n",
       "      <td>1986.552492</td>\n",
       "      <td>12768.455652</td>\n",
       "    </tr>\n",
       "    <tr>\n",
       "      <th>std</th>\n",
       "      <td>2.876566e+09</td>\n",
       "      <td>3.671272e+05</td>\n",
       "      <td>0.930062</td>\n",
       "      <td>0.770163</td>\n",
       "      <td>918.440897</td>\n",
       "      <td>4.142051e+04</td>\n",
       "      <td>0.539989</td>\n",
       "      <td>0.086517</td>\n",
       "      <td>0.766318</td>\n",
       "      <td>0.650743</td>\n",
       "      <td>1.175459</td>\n",
       "      <td>828.090978</td>\n",
       "      <td>442.575043</td>\n",
       "      <td>29.373411</td>\n",
       "      <td>401.679240</td>\n",
       "      <td>53.505026</td>\n",
       "      <td>0.138564</td>\n",
       "      <td>0.140828</td>\n",
       "      <td>685.391304</td>\n",
       "      <td>27304.179631</td>\n",
       "    </tr>\n",
       "    <tr>\n",
       "      <th>min</th>\n",
       "      <td>1.000102e+06</td>\n",
       "      <td>7.500000e+04</td>\n",
       "      <td>0.000000</td>\n",
       "      <td>0.000000</td>\n",
       "      <td>290.000000</td>\n",
       "      <td>5.200000e+02</td>\n",
       "      <td>1.000000</td>\n",
       "      <td>0.000000</td>\n",
       "      <td>0.000000</td>\n",
       "      <td>1.000000</td>\n",
       "      <td>1.000000</td>\n",
       "      <td>290.000000</td>\n",
       "      <td>0.000000</td>\n",
       "      <td>1900.000000</td>\n",
       "      <td>0.000000</td>\n",
       "      <td>98001.000000</td>\n",
       "      <td>47.155900</td>\n",
       "      <td>-122.519000</td>\n",
       "      <td>399.000000</td>\n",
       "      <td>651.000000</td>\n",
       "    </tr>\n",
       "    <tr>\n",
       "      <th>25%</th>\n",
       "      <td>2.123049e+09</td>\n",
       "      <td>3.219500e+05</td>\n",
       "      <td>3.000000</td>\n",
       "      <td>1.750000</td>\n",
       "      <td>1427.000000</td>\n",
       "      <td>5.040000e+03</td>\n",
       "      <td>1.000000</td>\n",
       "      <td>0.000000</td>\n",
       "      <td>0.000000</td>\n",
       "      <td>3.000000</td>\n",
       "      <td>7.000000</td>\n",
       "      <td>1190.000000</td>\n",
       "      <td>0.000000</td>\n",
       "      <td>1951.000000</td>\n",
       "      <td>0.000000</td>\n",
       "      <td>98033.000000</td>\n",
       "      <td>47.471000</td>\n",
       "      <td>-122.328000</td>\n",
       "      <td>1490.000000</td>\n",
       "      <td>5100.000000</td>\n",
       "    </tr>\n",
       "    <tr>\n",
       "      <th>50%</th>\n",
       "      <td>3.904930e+09</td>\n",
       "      <td>4.500000e+05</td>\n",
       "      <td>3.000000</td>\n",
       "      <td>2.250000</td>\n",
       "      <td>1910.000000</td>\n",
       "      <td>7.618000e+03</td>\n",
       "      <td>1.500000</td>\n",
       "      <td>0.000000</td>\n",
       "      <td>0.000000</td>\n",
       "      <td>3.000000</td>\n",
       "      <td>7.000000</td>\n",
       "      <td>1560.000000</td>\n",
       "      <td>0.000000</td>\n",
       "      <td>1975.000000</td>\n",
       "      <td>0.000000</td>\n",
       "      <td>98065.000000</td>\n",
       "      <td>47.571800</td>\n",
       "      <td>-122.230000</td>\n",
       "      <td>1840.000000</td>\n",
       "      <td>7620.000000</td>\n",
       "    </tr>\n",
       "    <tr>\n",
       "      <th>75%</th>\n",
       "      <td>7.308900e+09</td>\n",
       "      <td>6.450000e+05</td>\n",
       "      <td>4.000000</td>\n",
       "      <td>2.500000</td>\n",
       "      <td>2550.000000</td>\n",
       "      <td>1.068800e+04</td>\n",
       "      <td>2.000000</td>\n",
       "      <td>0.000000</td>\n",
       "      <td>0.000000</td>\n",
       "      <td>4.000000</td>\n",
       "      <td>8.000000</td>\n",
       "      <td>2210.000000</td>\n",
       "      <td>560.000000</td>\n",
       "      <td>1997.000000</td>\n",
       "      <td>0.000000</td>\n",
       "      <td>98118.000000</td>\n",
       "      <td>47.678000</td>\n",
       "      <td>-122.125000</td>\n",
       "      <td>2360.000000</td>\n",
       "      <td>10083.000000</td>\n",
       "    </tr>\n",
       "    <tr>\n",
       "      <th>max</th>\n",
       "      <td>9.900000e+09</td>\n",
       "      <td>7.700000e+06</td>\n",
       "      <td>33.000000</td>\n",
       "      <td>8.000000</td>\n",
       "      <td>13540.000000</td>\n",
       "      <td>1.651359e+06</td>\n",
       "      <td>3.500000</td>\n",
       "      <td>1.000000</td>\n",
       "      <td>4.000000</td>\n",
       "      <td>5.000000</td>\n",
       "      <td>13.000000</td>\n",
       "      <td>9410.000000</td>\n",
       "      <td>4820.000000</td>\n",
       "      <td>2015.000000</td>\n",
       "      <td>2015.000000</td>\n",
       "      <td>98199.000000</td>\n",
       "      <td>47.777600</td>\n",
       "      <td>-121.315000</td>\n",
       "      <td>6210.000000</td>\n",
       "      <td>871200.000000</td>\n",
       "    </tr>\n",
       "  </tbody>\n",
       "</table>\n",
       "</div>"
      ],
      "text/plain": [
       "                 id         price      bedrooms     bathrooms   sqft_living  \\\n",
       "count  2.161300e+04  2.161300e+04  21613.000000  21613.000000  21613.000000   \n",
       "mean   4.580302e+09  5.400881e+05      3.370842      2.114757   2079.899736   \n",
       "std    2.876566e+09  3.671272e+05      0.930062      0.770163    918.440897   \n",
       "min    1.000102e+06  7.500000e+04      0.000000      0.000000    290.000000   \n",
       "25%    2.123049e+09  3.219500e+05      3.000000      1.750000   1427.000000   \n",
       "50%    3.904930e+09  4.500000e+05      3.000000      2.250000   1910.000000   \n",
       "75%    7.308900e+09  6.450000e+05      4.000000      2.500000   2550.000000   \n",
       "max    9.900000e+09  7.700000e+06     33.000000      8.000000  13540.000000   \n",
       "\n",
       "           sqft_lot        floors    waterfront          view     condition  \\\n",
       "count  2.161300e+04  21613.000000  21613.000000  21613.000000  21613.000000   \n",
       "mean   1.510697e+04      1.494309      0.007542      0.234303      3.409430   \n",
       "std    4.142051e+04      0.539989      0.086517      0.766318      0.650743   \n",
       "min    5.200000e+02      1.000000      0.000000      0.000000      1.000000   \n",
       "25%    5.040000e+03      1.000000      0.000000      0.000000      3.000000   \n",
       "50%    7.618000e+03      1.500000      0.000000      0.000000      3.000000   \n",
       "75%    1.068800e+04      2.000000      0.000000      0.000000      4.000000   \n",
       "max    1.651359e+06      3.500000      1.000000      4.000000      5.000000   \n",
       "\n",
       "              grade    sqft_above  sqft_basement      yr_built  yr_renovated  \\\n",
       "count  21613.000000  21613.000000   21613.000000  21613.000000  21613.000000   \n",
       "mean       7.656873   1788.390691     291.509045   1971.005136     84.402258   \n",
       "std        1.175459    828.090978     442.575043     29.373411    401.679240   \n",
       "min        1.000000    290.000000       0.000000   1900.000000      0.000000   \n",
       "25%        7.000000   1190.000000       0.000000   1951.000000      0.000000   \n",
       "50%        7.000000   1560.000000       0.000000   1975.000000      0.000000   \n",
       "75%        8.000000   2210.000000     560.000000   1997.000000      0.000000   \n",
       "max       13.000000   9410.000000    4820.000000   2015.000000   2015.000000   \n",
       "\n",
       "            zipcode           lat          long  sqft_living15     sqft_lot15  \n",
       "count  21613.000000  21613.000000  21613.000000   21613.000000   21613.000000  \n",
       "mean   98077.939805     47.560053   -122.213896    1986.552492   12768.455652  \n",
       "std       53.505026      0.138564      0.140828     685.391304   27304.179631  \n",
       "min    98001.000000     47.155900   -122.519000     399.000000     651.000000  \n",
       "25%    98033.000000     47.471000   -122.328000    1490.000000    5100.000000  \n",
       "50%    98065.000000     47.571800   -122.230000    1840.000000    7620.000000  \n",
       "75%    98118.000000     47.678000   -122.125000    2360.000000   10083.000000  \n",
       "max    98199.000000     47.777600   -121.315000    6210.000000  871200.000000  "
      ]
     },
     "execution_count": 7,
     "metadata": {},
     "output_type": "execute_result"
    }
   ],
   "source": [
    "# Describe our Dataset with some stats\n",
    "data.describe()"
   ]
  },
  {
   "cell_type": "markdown",
   "metadata": {},
   "source": [
    "Our main focus is trying to predict the price given the squarefeet. (You are free to make experiment on the other features)"
   ]
  },
  {
   "cell_type": "code",
   "execution_count": 27,
   "metadata": {},
   "outputs": [
    {
     "data": {
      "text/plain": [
       "<matplotlib.text.Text at 0x7f76e2a19550>"
      ]
     },
     "execution_count": 27,
     "metadata": {},
     "output_type": "execute_result"
    },
    {
     "data": {
      "image/png": "[encoded data removed]",
      "text/plain": [
       "<matplotlib.figure.Figure at 0x7f76e2a7b550>"
      ]
     },
     "metadata": {},
     "output_type": "display_data"
    }
   ],
   "source": [
    "# Now let's plot Square Feet vs Price\n",
    "# If you are European or want to reason in square meters: multiply sqft * 0.092903\n",
    "plt.scatter(x=data.sqft_living, y=data.price/1e6)\n",
    "plt.ylabel('Price in Milions of $', fontsize=12)\n",
    "plt.xlabel('Square feet', fontsize=12)\n",
    "plt.title(\"Price vs Square Feet\")"
   ]
  },
  {
   "cell_type": "code",
   "execution_count": 78,
   "metadata": {},
   "outputs": [
    {
     "data": {
      "text/plain": [
       "<matplotlib.text.Text at 0x7fa6551a4cc0>"
      ]
     },
     "execution_count": 78,
     "metadata": {},
     "output_type": "execute_result"
    },
    {
     "data": {
      "image/png": "[encoded data removed]",
      "text/plain": [
       "<matplotlib.figure.Figure at 0x7fa654ef4588>"
      ]
     },
     "metadata": {},
     "output_type": "display_data"
    }
   ],
   "source": [
    "def dataset_normalization(ds):\n",
    "    # Normalize data in [0,1] range\n",
    "    # new_x = (x - min)/(max - min) \n",
    "    min = ds.min()\n",
    "    max = ds.max()\n",
    "    return (ds - min)/(max - min)\n",
    "\n",
    "data['price'] = dataset_normalization(data['price'])\n",
    "data['sqft_living'] = dataset_normalization(data['sqft_living'])\n",
    "\n",
    "# Let's Plot the Dataset after normalization\n",
    "plt.scatter(x=data.sqft_living, y=data.price)\n",
    "plt.ylabel('Price', fontsize=12)\n",
    "plt.xlabel('Square feet', fontsize=12)\n",
    "plt.title(\"Price vs Square Feet after Normalization in [0,1]\")"
   ]
  },
  {
   "cell_type": "code",
   "execution_count": 79,
   "metadata": {},
   "outputs": [
    {
     "name": "stdout",
     "output_type": "stream",
     "text": [
      "Train Set starts: 0, end:  12969\n",
      "Validation Set starts:  12970 , end:  17291\n",
      "Test Set starts:  17292 , end:  21613\n"
     ]
    }
   ],
   "source": [
    "from torch.utils.data.dataset import Dataset\n",
    "\n",
    "class Sqft2Price(Dataset):\n",
    "    def __init__(self, start, end, normalize=False):\n",
    "        self.data = pd.read_csv(\"/input/kc_house_data.csv\")\n",
    "        self.len = end\n",
    "        if normalize:\n",
    "            self.train = dataset_normalization(data['sqft_living'][start:end])\n",
    "            self.label = dataset_normalization(data['price'][start:end])\n",
    "        else:\n",
    "            self.train = data['sqft_living'][start:end]\n",
    "            self.label = data['price'][start:end]\n",
    "        \n",
    "    def __getitem__(self, index):\n",
    "        # Return (train_sample, labels)\n",
    "        return (self.train[index], self.label[index])\n",
    "\n",
    "    def __len__(self):\n",
    "        return self.len # how many examples you have\n",
    "\n",
    "# Compute 20% for dev/test split\n",
    "val_test_split = ((21613 * 20 )//100)\n",
    "# The remaining 60 is for training\n",
    "train_split = len(data.index) - (val_test_split * 2)  \n",
    "\n",
    "# Train Set Split %60  \n",
    "train_set = Sqft2Price(0, train_split, normalize=True)\n",
    "print (\"Train Set starts: 0, end: \", train_split)\n",
    "# Val Set Split %20\n",
    "val_split = train_split + val_test_split\n",
    "print (\"Validation Set starts: \", train_split+1, \", end: \", train_split + val_test_split)\n",
    "val_set = Sqft2Price(train_split+1, train_split + val_test_split, normalize=True)\n",
    "# Test Set Split %20\n",
    "print (\"Test Set starts: \", val_split+1, \", end: \", len(data.index))\n",
    "test_set = Sqft2Price(val_split+1, len(data.index), normalize=True)"
   ]
  },
  {
   "cell_type": "code",
   "execution_count": 81,
   "metadata": {},
   "outputs": [],
   "source": [
    "# Define the data Loader for Train, Val, Test\n",
    "train_loader = torch.utils.data.DataLoader(train_set, batch_size=32, shuffle=True)\n",
    "val_loader = torch.utils.data.DataLoader(val_set, batch_size=32, shuffle=False)\n",
    "test_loader = torch.utils.data.DataLoader(test_set, batch_size=32, shuffle=False)"
   ]
  },
  {
   "cell_type": "markdown",
   "metadata": {},
   "source": [
    "## Choose a Model\n",
    "\n",
    "To do prediction using ML, we need to choose a model that can best-fit the data that we have collected.\n",
    "We can choose a linear (straight line) model, and tweak it to match the data points by changing its steepness/gradient and position. \n",
    "\n",
    "![img Linear Model visual](https://cdn-images-1.medium.com/max/1280/1*i8a-ADvmchTek5y9mWiImA.png)\n",
    "\n",
    "We can also choose an exponential (curve) model, and tweak it to match the same set of data points by changing its curvature and position.\n",
    "\n",
    "![img Curve Model visual](https://cdn-images-1.medium.com/max/1280/1*9aaM2_rUeMUkknRdoIDXFw.png)\n",
    "\n",
    "Here's how to define a Linear Model in PyTorch."
   ]
  },
  {
   "cell_type": "code",
   "execution_count": 85,
   "metadata": {},
   "outputs": [],
   "source": [
    "import torch.nn as nn\n",
    "\n",
    "# Linear Regression Model\n",
    "class LinearRegression(nn.Module):\n",
    "    # Template for LR\n",
    "    def __init__(self, input_size, output_size):\n",
    "        super(LinearRegression, self).__init__()\n",
    "        self.linear = nn.Linear(input_size, output_size)\n",
    "    \n",
    "    def forward(self, x):\n",
    "        out = self.linear(x)\n",
    "        return out\n",
    "\n",
    "# Define a Linear Model with 1 feature(weight/variable) and bias, and output a single number\n",
    "# w * sqft + bias = price, we are learning the w and bias\n",
    "model = LinearRegression(input_size=1, output_size=1)\n",
    "\n",
    "# If you are running a GPU instance, load the model on GPU\n",
    "if cuda:\n",
    "    model.cuda()"
   ]
  },
  {
   "cell_type": "markdown",
   "metadata": {},
   "source": [
    "## Cost Function\n",
    "\n",
    "To compare which model is a better-fit more rigorously, we define best-fit mathematically as a cost function that we need to minimize. An example of a cost function can simply be the absolute sum of the differences between the actual outcome represented by each data point, and the prediction of the outcome (the vertical projection of the actual outcome onto the best-fit line). Graphically the cost is depicted by the sum of the length of the blue lines in the chart below.\n",
    "\n",
    "![img cost function visual](https://cdn-images-1.medium.com/max/1280/1*QaFrGv6YU357T97i5KcZgg.png)\n",
    "\n",
    "**NOTE**: More accurately the cost function is often the squared of the difference between actual and predicted outcome, because the difference can sometimes can be negative; this is also known as min least-squared.\n",
    "\n",
    "![Code PyTorch Setup loss function]()"
   ]
  },
  {
   "cell_type": "code",
   "execution_count": 75,
   "metadata": {
    "collapsed": true
   },
   "outputs": [],
   "source": [
    "# Use the Mean Squared Error Loss Function, MSE = (sum_over_n(pred - label)^2)/n where n are the number of samples \n",
    "loss_fn = torch.nn.MSELoss(size_average=True)\n",
    "\n",
    "# If you are running a GPU instance, compute the loss on GPU\n",
    "if cuda:\n",
    "    loss_fn.cuda()"
   ]
  },
  {
   "cell_type": "markdown",
   "metadata": {},
   "source": [
    "## Gradient Descent\n",
    "\n",
    "If you are on an expansive plateau in the mountains, when trying to descent to the lowest point, your viewpoint looks like this.\n",
    "\n",
    "![mountain landscape](https://cdn-images-1.medium.com/max/1280/1*phKkGIPjF1_inKf46KF7EA.png)\n",
    "\n",
    "The direction of descent is not obvious! The best way to descend is then to perform **gradient descent**:\n",
    "\n",
    "- Determine the direction with the steepest downward gradient at current position\n",
    "- Take a step of size X in that direction\n",
    "- Repeat & rinse; this is known as training\n",
    "\n",
    "Minimizing the cost function is similar because, the cost function is undulating like the mountains (chart below), and we are trying to find the minimum point, which we can similarly achieve through gradient descent.\n",
    "\n",
    "![gsd](https://cdn-images-1.medium.com/max/1280/1*grA_mOjJddRb7kmvayMrWQ.png)\n",
    "\n",
    "[Code PyTorch Setup SGD]\n"
   ]
  },
  {
   "cell_type": "code",
   "execution_count": 107,
   "metadata": {},
   "outputs": [],
   "source": [
    "# Define SGD Optimizer\n",
    "learning_rate = 1e-5\n",
    "optimizer = torch.optim.SGD(model.parameters(), lr=learning_rate)"
   ]
  },
  {
   "cell_type": "markdown",
   "metadata": {},
   "source": [
    "## Train\n",
    "\n",
    "..."
   ]
  },
  {
   "cell_type": "code",
   "execution_count": 109,
   "metadata": {},
   "outputs": [
    {
     "name": "stdout",
     "output_type": "stream",
     "text": [
      "Epoch [1/1], Loss: 0.0005\n"
     ]
    }
   ],
   "source": [
    "# import torch.autograd.Variable as Variable\n",
    "\n",
    "# Hyper Parameters\n",
    "#input_size = 1\n",
    "#output_size = 1\n",
    "#learning_rate = 1e-5 # 0.00001\n",
    "num_epochs = 1\n",
    "\n",
    "\n",
    "# Train the Model \n",
    "for epoch in range(num_epochs):\n",
    "    # Get batch from loader\n",
    "    for i, (input, target) in enumerate(train_loader):\n",
    "        # Transpose tensors\n",
    "        input, target = input.view(-1,1), target.view(-1,1) \n",
    "        float_tensor = 'torch.FloatTensor'\n",
    "        # Convert to FloatTensor then wrap as Variable\n",
    "        input = torch.autograd.Variable(input.type(float_tensor))\n",
    "        target = torch.autograd.Variable(target.type(float_tensor))\n",
    "        # Load Variable on GPU\n",
    "        if cuda:\n",
    "            input, target = input.cuda(), target.cuda()\n",
    "            \n",
    "        # Forward + Backward + Optimize\n",
    "        optimizer.zero_grad()  \n",
    "        output = model(input)\n",
    "        loss = loss_fn(output, target)\n",
    "        loss.backward()\n",
    "        optimizer.step()\n",
    "        \n",
    "        # Load loss into CPU\n",
    "        if cuda:\n",
    "            loss.cpu()\n",
    "    if (epoch+1) % 1 == 0:\n",
    "        print ('Epoch [%d/%d], Loss: %.4f' \n",
    "               %(epoch+1, num_epochs, loss.data[0]))"
   ]
  },
  {
   "cell_type": "markdown",
   "metadata": {},
   "source": [
    "## Evaluate\n",
    "\n",
    "After the training of our model, we can take a look at the fitting line produced by our Linear Model: what is our expectation? Well we hope to see a strait line which \"cut the dataset points in the middle\"."
   ]
  },
  {
   "cell_type": "code",
   "execution_count": 110,
   "metadata": {},
   "outputs": [
    {
     "data": {
      "image/png": "[encoded data removed]",
      "text/plain": [
       "<matplotlib.figure.Figure at 0x7fa6545cbd30>"
      ]
     },
     "metadata": {},
     "output_type": "display_data"
    }
   ],
   "source": [
    "# Evaluate our Model on the full dataset\n",
    "tensor = torch.from_numpy(data.sqft_living.values).type(float_tensor).view(-1,1)\n",
    "predicted = model(torch.autograd.Variable(tensor)).data.numpy()\n",
    "\n",
    "# Plot the graph\n",
    "plt.plot(data.sqft_living, data.price, 'bo', label='Original data')\n",
    "plt.plot(data.sqft_living, predicted, 'r-', label='Fitted line')\n",
    "plt.ylabel('Price', fontsize=12)\n",
    "plt.xlabel('Square feet', fontsize=12)\n",
    "plt.title(\"Linear Regression Model Learned\")\n",
    "plt.legend()\n",
    "plt.show()"
   ]
  },
  {
   "cell_type": "markdown",
   "metadata": {},
   "source": [
    "Excellent! But wait, we have not learned so much! Yes indeed, this is not a good model and it was obvius since the beginning that a line could not fit a similar distribution. We need deeper or powerful model capable to learn more than a single line."
   ]
  },
  {
   "cell_type": "markdown",
   "metadata": {},
   "source": [
    "## What if we have more features?\n",
    "\n",
    "We have covered a linear model based on only the square feet living feature, but we know that the price is a function of different features, what do we need to do if we want to include additional features and try to predict the price with a Linear Model in this regression Task? \n",
    "\n",
    "Now we have a new feature and we will see how to change the model according to this changing."
   ]
  },
  {
   "cell_type": "code",
   "execution_count": 120,
   "metadata": {},
   "outputs": [
    {
     "data": {
      "image/png": "[encoded data removed]",
      "text/plain": [
       "<matplotlib.figure.Figure at 0x7fa65425c860>"
      ]
     },
     "metadata": {},
     "output_type": "display_data"
    }
   ],
   "source": [
    "from mpl_toolkits.mplot3d import Axes3D\n",
    "fig = plt.figure()\n",
    "ax = fig.add_subplot(111, projection='3d')\n",
    "\n",
    "\n",
    "# # Axes3D.scatter(xs, ys, zs=0, zdir='z', s=20, c=None, depthshade=True,)\n",
    "data['price'] = dataset_normalization(data['price'])\n",
    "data['sqft_living'] = dataset_normalization(data['sqft_living'])\n",
    "data['bedrooms'] = dataset_normalization(data['bedrooms'])\n",
    "\n",
    "\n",
    "ax.scatter(xs=data.sqft_living, ys=data.bedrooms, zs=data.price, c='b', marker='o')\n",
    "\n",
    "ax.set_xlabel('Square feet')\n",
    "ax.set_ylabel('Beedrooms')\n",
    "ax.set_zlabel('Price')\n",
    "plt.title(\"Price given Sqft and Beedrooms\")\n",
    "plt.show()"
   ]
  },
  {
   "cell_type": "code",
   "execution_count": 132,
   "metadata": {},
   "outputs": [
    {
     "name": "stdout",
     "output_type": "stream",
     "text": [
      "Train Set starts: 0, end:  12969\n",
      "Validation Set starts:  12970 , end:  17291\n",
      "Test Set starts:  17292 , end:  21613\n"
     ]
    }
   ],
   "source": [
    "class Sqft2Price(Dataset):\n",
    "    def __init__(self, start, end, normalize=False):\n",
    "        self.data = pd.read_csv(\"/input/kc_house_data.csv\")\n",
    "        self.len = end\n",
    "        if normalize:\n",
    "            self.train = dataset_normalization(data[['sqft_living', 'bedrooms']][start:end].values)\n",
    "            self.label = dataset_normalization(data['price'][start:end].values)\n",
    "        else:\n",
    "            self.train = data[['sqft_living', 'bedrooms']][start:end]\n",
    "            self.label = data[['sqft_living', 'bedrooms']][start:end]\n",
    "        \n",
    "    def __getitem__(self, index):\n",
    "        # Return (train_sample, labels)\n",
    "        return (self.train[index], self.label[index])\n",
    "\n",
    "    def __len__(self):\n",
    "        return self.len # how many examples you have\n",
    "\n",
    "# Compute 20% for dev/test split\n",
    "val_test_split = ((21613 * 20 )//100)\n",
    "# The remaining 60 is for training\n",
    "train_split = len(data.index) - (val_test_split * 2)  \n",
    "\n",
    "# Train Set Split %60  \n",
    "train_set = Sqft2Price(0, train_split, normalize=True)\n",
    "print (\"Train Set starts: 0, end: \", train_split)\n",
    "# Val Set Split %20\n",
    "val_split = train_split + val_test_split\n",
    "print (\"Validation Set starts: \", train_split+1, \", end: \", train_split + val_test_split)\n",
    "val_set = Sqft2Price(train_split+1, train_split + val_test_split, normalize=True)\n",
    "# Test Set Split %20\n",
    "print (\"Test Set starts: \", val_split+1, \", end: \", len(data.index))\n",
    "test_set = Sqft2Price(val_split+1, len(data.index), normalize=True)"
   ]
  },
  {
   "cell_type": "code",
   "execution_count": 150,
   "metadata": {},
   "outputs": [],
   "source": [
    "# Define the data Loader for Train, Val, Test\n",
    "train_loader = torch.utils.data.DataLoader(train_set, batch_size=32, shuffle=True)\n",
    "val_loader = torch.utils.data.DataLoader(val_set, batch_size=32, shuffle=False)\n",
    "test_loader = torch.utils.data.DataLoader(test_set, batch_size=32, shuffle=False)"
   ]
  },
  {
   "cell_type": "code",
   "execution_count": 136,
   "metadata": {
    "collapsed": true
   },
   "outputs": [],
   "source": [
    "# Linear Regression Model\n",
    "class LinearRegression(nn.Module):\n",
    "    # Template for LR\n",
    "    def __init__(self, input_size, output_size):\n",
    "        super(LinearRegression, self).__init__()\n",
    "        self.linear = nn.Linear(input_size, output_size)\n",
    "    \n",
    "    def forward(self, x):\n",
    "        out = self.linear(x)\n",
    "        return out\n",
    "\n",
    "# Define a Linear Model with 2 features(weights/variables), bias, and output a single number\n",
    "# w1 * sqft + w2 * bedrooms + bias = price, we are learning the w1, w2 and bias\n",
    "model = LinearRegression(input_size=2, output_size=1)\n",
    "\n",
    "# If you are running a GPU instance, load the model on GPU\n",
    "if cuda:\n",
    "    model.cuda()"
   ]
  },
  {
   "cell_type": "code",
   "execution_count": 142,
   "metadata": {
    "collapsed": true
   },
   "outputs": [],
   "source": [
    "# Define SGD Optimizer\n",
    "learning_rate = 1e-4\n",
    "optimizer = torch.optim.SGD(model.parameters(), lr=learning_rate)"
   ]
  },
  {
   "cell_type": "code",
   "execution_count": 149,
   "metadata": {},
   "outputs": [
    {
     "name": "stdout",
     "output_type": "stream",
     "text": [
      "Epoch [1/2], Loss: 0.1283\n",
      "Epoch [2/2], Loss: 0.1270\n"
     ]
    }
   ],
   "source": [
    "# import torch.autograd.Variable as Variable\n",
    "\n",
    "# Hyper Parameters\n",
    "#input_size = 1\n",
    "#output_size = 1\n",
    "#learning_rate = 1e-5 # 0.00001\n",
    "num_epochs = 2\n",
    "\n",
    "\n",
    "# Train the Model \n",
    "for epoch in range(num_epochs):\n",
    "    # Get batch from loader\n",
    "    for i, (input, target) in enumerate(train_loader):\n",
    "        #print (input.size()) \n",
    "        float_tensor = 'torch.FloatTensor'\n",
    "        # Convert to FloatTensor then wrap as Variable\n",
    "        input = torch.autograd.Variable(input.type(float_tensor))\n",
    "        target = torch.autograd.Variable(target.type(float_tensor))\n",
    "        # Load Variable on GPU\n",
    "        if cuda:\n",
    "            input, target = input.cuda(), target.cuda()\n",
    "            \n",
    "        # Forward + Backward + Optimize\n",
    "        optimizer.zero_grad()  \n",
    "        output = model(input)\n",
    "        loss = loss_fn(output, target)\n",
    "        loss.backward()\n",
    "        optimizer.step()\n",
    "        \n",
    "        # Load loss into CPU\n",
    "        if cuda:\n",
    "            loss.cpu()\n",
    "    if (epoch+1) % 1 == 0:\n",
    "        print ('Epoch [%d/%d], Loss: %.4f' \n",
    "               %(epoch+1, num_epochs, loss.data[0]))"
   ]
  },
  {
   "cell_type": "code",
   "execution_count": 195,
   "metadata": {},
   "outputs": [
    {
     "data": {
      "image/png": "[encoded data removed]",
      "text/plain": [
       "<matplotlib.figure.Figure at 0x7fa607b0de80>"
      ]
     },
     "metadata": {},
     "output_type": "display_data"
    }
   ],
   "source": [
    "fig = plt.figure()\n",
    "ax = fig.add_subplot(111, projection='3d')\n",
    "\n",
    "# Evaluate our Model on the full dataset\n",
    "tensor = torch.from_numpy(data[['sqft_living', 'bedrooms']].values[:100]).type(float_tensor)\n",
    "predicted = model(torch.autograd.Variable(tensor)).data.numpy()\n",
    "\n",
    "# Normalization\n",
    "data['price'] = dataset_normalization(data['price'])\n",
    "data['sqft_living'] = dataset_normalization(data['sqft_living'])\n",
    "data['bedrooms'] = dataset_normalization(data['bedrooms'])\n",
    "\n",
    "# Plot and Scatter\n",
    "ax.scatter(xs=data.sqft_living[:100], ys=data.bedrooms[:100], zs=data.price[:100], c='b', marker='o')\n",
    "ax.plot_surface(X=data.sqft_living.values[:100], Y=data.bedrooms.values[:100], Z=predicted.ravel(), color='None')\n",
    "\n",
    "ax.set_xlabel('Square feet')\n",
    "ax.set_ylabel('Beedrooms')\n",
    "ax.set_zlabel('Price')\n",
    "plt.title(\"Price given Sqft and Beedrooms\")\n",
    "plt.show()"
   ]
  },
  {
   "cell_type": "markdown",
   "metadata": {},
   "source": [
    "## Do you want more?\n",
    "\n",
    "In the next step we will move to another great classical of ML: the handwritten digit classifiaction task of MNIST dataset. We will cover another simple model (Logistic Regression) that we will \"evolve\"(Neural Networks) until reaching state-of-the-art model(Convolutional Neural Network) on this task and familiarize with PyTorch and the Deep Learning Framework."
   ]
  },
  {
   "cell_type": "markdown",
   "metadata": {},
   "source": [
    "## Summary\n",
    "\n",
    "After this brief and high level introduction to Machine Learning and its workflow you have a developed a basic understanding about what ML is and in which way we can learn from data. But repeat everything one more time can only help us to fix this new knowledge, this is what we have learned:\n",
    "\n",
    "- The First question every Data Scientist need to face is: Where Can I find the data usefull for my task?\n",
    "- The next step is to create a data pipeline, in the previous example, we have defined a custom Dataset in which we have defined the train/dev/test split, then we have normalize our data for numerical stability. \n",
    "- Once we have defined our dataset, we have build our Linear Model class inherited from the pytorch.nn module, according to the features and output we have to compute.\n",
    "- A loss function and Optimizer are the last things to define before begin the training process\n",
    "- In the training process we have wrapped all the pieces to learn a good model which can generalize on new data\n",
    "- The evaluation process we are testing what our model have learned. Now we can make assumption and consideration abou the next experiment to run"
   ]
  },
  {
   "cell_type": "markdown",
   "metadata": {
    "collapsed": true
   },
   "source": [
    "## It's you turn!\n",
    "\n",
    "Now it's your turn to test what you have learned on new knowledge: explore the dataset or take a new one, change hyperparamters, hack the linear model, explore new loss functions, try othera optimizera or if you are eager to learn, What are you expecting to move on the next part of the beginner episode? ;)"
   ]
  },
  {
   "cell_type": "markdown",
   "metadata": {},
   "source": [
    "## One More Thing\n",
    "\n",
    "You have achieved the *Linear Model Trophy*, now you are able to run the Polynomial Regression Task(it's a Linear Model capable to fit a 4degree Polynomial). How a Linear Model can fit a 4degree pol? Because it's Linear in the weights! It's ok if you are a bit confused. Take your time to fix this knowledge trying this example it will fix in your mind.\n",
    "\n",
    "[Jump to PyTorch Polynomial Regression example](https://github.com/floydhub/regression)"
   ]
  },
  {
   "cell_type": "markdown",
   "metadata": {},
   "source": [
    "## Thanks and Resources\n",
    "\n",
    "Big thanks to:\n",
    "- ...\n",
    "\n",
    "Resources:\n",
    "- [the-gentlest-introduction-to-tensorflow](https://medium.com/all-of-us-are-belong-to-machines/the-gentlest-introduction-to-tensorflow-248dc871a224)\n",
    "- [yunjey-pytorch-tutorial](https://github.com/yunjey/pytorch-tutorial)\n",
    "- [house-price-prediction, which have inspired me about use king county kaggle dataset](https://github.com/Shreyas3108/house-price-prediction/blob/master/housesales.ipynb)\n",
    "- [pyTorch custom dataset example](https://github.com/utkuozbulak/pytorch-custom-dataset-examples)"
   ]
  },
  {
   "cell_type": "code",
   "execution_count": null,
   "metadata": {
    "collapsed": true
   },
   "outputs": [],
   "source": []
  }
 ],
 "metadata": {
  "kernelspec": {
   "display_name": "Python 3",
   "language": "python",
   "name": "python3"
  },
  "language_info": {
   "codemirror_mode": {
    "name": "ipython",
    "version": 3
   },
   "file_extension": ".py",
   "mimetype": "text/x-python",
   "name": "python",
   "nbconvert_exporter": "python",
   "pygments_lexer": "ipython3",
   "version": "3.5.3"
  }
 },
 "nbformat": 4,
 "nbformat_minor": 2
}
