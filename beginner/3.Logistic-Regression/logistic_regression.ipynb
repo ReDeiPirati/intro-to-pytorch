{
 "cells": [
  {
   "cell_type": "markdown",
   "metadata": {},
   "source": [
    "# FloyHub introduction to Deep Learning: Logistic Regression"
   ]
  },
  {
   "cell_type": "markdown",
   "metadata": {},
   "source": [
    "### Abstract\n",
    "We are moving to another classical of ML: the handwritten digit recognition with Logistic Regression. This is the first of 3 step which will take us on on state-of-the-art model for this task and in the deeper region of Deep Learning.\n",
    "\n",
    "## Introduction\n",
    "We have learnt how to use PyTorch (PT) to perform linear regression to predict an outcome of scalar value, e.g., house prices, given a set of features, e.g., house size.\n",
    "\n",
    "However, there are times when we want to classify things rather than predict a value, e.g., given an image of a digit we can to classify it as either 0, 1, 2, …, 9, or given a song we want to classify it as pop, rock, rap, etc. Each of the classification in the set [0, 1, 2, …, 9], or [pop, rock, rap, etc.], is known as a class, which in the computer world we represent using a number, e.g., pop = 0, rock = 1, etc. To perform classification, we can employ logistic regression using PT.\n",
    "In this article, we will use logistic regression to classify the image of a digit, as belonging to classes 0, 1, 2, …, or, 9."
   ]
  },
  {
   "cell_type": "markdown",
   "metadata": {},
   "source": [
    "### Table of Contents\n",
    "\n",
    "- ..."
   ]
  },
  {
   "cell_type": "markdown",
   "metadata": {},
   "source": [
    "## Logistic Regression vs Linear Regression\n",
    "\n",
    "The good news is a lot of concepts in linear regression still applies in logistic regression. We can reuse the formula `y = W.x + b`, but with some tweaks. Let’s look at this formula side-by-side for linear and logistic regression:\n",
    "\n",
    "![LinR vs LogR](https://cdn-images-1.medium.com/max/1280/1*Oy6O6OdzTXbp_Czi_k4mRg.png)\n",
    "\n",
    "*Differences*:\n",
    "\n",
    "- **Outcome (y)**: For linear regression, this is a scalar value, e.g., $50K, $23.98K, etc. For logistic regression, this is an integer that refers to a class of e.g., 0, 1, 2, .. 9. To be more clear is called regression because the output of each class is in range [0,1], but we have a classification task so in the end we have an output which represent one of this class.\n",
    "\n",
    "- **Features (x)**: For linear regression, each feature is represented as an element in a column vector. For logistic regression involving a 2-D image, this is a 2-dimensional vector, with each element representing a pixel of the image; each pixel has a value of 0–255 representing a grayscale where 0 = black, and 255 = white, and other values some shade of grey.\n",
    "\n",
    "- **Cost function (cost)**: For linear regression, this is some function calculating the aggregated difference between each prediction and its expected outcome. For logistic regression, this is some function calculating the aggregation of whether each prediction is right or wrong.\n",
    "\n",
    "*Similarity*:\n",
    "\n",
    "- **Training**: The training goals of both linear and logistic regression are to learn the weights (W) and biases (b) values.\n",
    "- **Outcome**: The intention of both linear and logistic regression is to predict/classify the outcome (y) with the learned W, and b."
   ]
  },
  {
   "cell_type": "markdown",
   "metadata": {},
   "source": [
    "## Collect a Dataset\n",
    "\n",
    "For this task we will use the [MNIST](http://yann.lecun.com/exdb/mnist/) dataset that we have already uploaded for you as FloydHub dataset. If you have followed the steps in the `README.md` or in the article, you will be able to load the MNIST dataset from the `input` path.\n",
    "\n",
    "First of all we import all the package we need for running this tutorial."
   ]
  },
  {
   "cell_type": "code",
   "execution_count": 23,
   "metadata": {
    "collapsed": true
   },
   "outputs": [],
   "source": [
    "import torch\n",
    "import torch.nn as nn\n",
    "import torchvision.datasets as dsets\n",
    "import torch.nn as nn\n",
    "import torchvision.transforms as transforms\n",
    "from torch.autograd import Variable\n",
    "from torchvision.utils import make_grid\n",
    "import numpy as np\n",
    "import matplotlib.pyplot as plt\n",
    "%matplotlib inline\n",
    "\n",
    "# CUDA?\n",
    "cuda = torch.cuda.is_available()"
   ]
  },
  {
   "cell_type": "markdown",
   "metadata": {},
   "source": [
    "The `torchvision` package consists of popular datasets, model architectures, and common image transformations for computer vision. `torchvision.datasets` provide a great API to handle the MNIST dataset. The snippet of code below, will create the MNIST dataset, then we will dive into to take a look about MNIST samples."
   ]
  },
  {
   "cell_type": "code",
   "execution_count": 3,
   "metadata": {},
   "outputs": [
    {
     "name": "stdout",
     "output_type": "stream",
     "text": [
      "Training Data Size:  torch.Size([60000, 28, 28]) - torch.Size([60000])\n",
      "Testing Data Size:  torch.Size([10000, 28, 28]) - torch.Size([10000])\n"
     ]
    },
    {
     "data": {
      "image/png": "[encoded data removed]",
      "text/plain": [
       "<matplotlib.figure.Figure at 0x7f4e100ea7b8>"
      ]
     },
     "metadata": {},
     "output_type": "display_data"
    }
   ],
   "source": [
    "# MNIST Dataset (Images and Labels)\n",
    "# If you have not mounted the dataset, you can download it\n",
    "# just adding download=True as parameter\n",
    "train_dataset = dsets.MNIST(root='/input', \n",
    "                            train=True, \n",
    "                            transform=transforms.ToTensor())\n",
    "x_train_mnist, y_train_mnist = train_dataset.train_data.type(torch.FloatTensor), train_dataset.train_labels\n",
    "test_dataset = dsets.MNIST(root='/input', \n",
    "                           train=False, \n",
    "                           transform=transforms.ToTensor())\n",
    "x_test_mnist, y_test_mnist = test_dataset.test_data.type(torch.FloatTensor), test_dataset.test_labels\n",
    "\n",
    "print('Training Data Size: ' ,x_train_mnist.size(), '-', y_train_mnist.size())\n",
    "print('Testing Data Size: ' ,x_test_mnist.size(), '-', y_test_mnist.size())\n",
    "\n",
    "plt.imshow(x_train_mnist[0].numpy(), cmap='gray')\n",
    "plt.title('DIGIT: %i' % y_train_mnist[0])\n",
    "plt.axis('off')\n",
    "plt.show()"
   ]
  },
  {
   "cell_type": "markdown",
   "metadata": {},
   "source": [
    "`torch.utils.data.DataLoader` combines a dataset and a sampler, and provides single or multi-process iterators over the dataset."
   ]
  },
  {
   "cell_type": "code",
   "execution_count": 4,
   "metadata": {
    "collapsed": true
   },
   "outputs": [],
   "source": [
    "# Hyperparameter\n",
    "batch_size = 8\n",
    "\n",
    "# Training Dataset Loader (Input Pipline)\n",
    "train_loader = torch.utils.data.DataLoader(dataset=train_dataset, \n",
    "                                           batch_size=batch_size, \n",
    "                                           shuffle=True)\n",
    "# Testing Dataset Loader (Input Pipline)\n",
    "test_loader = torch.utils.data.DataLoader(dataset=test_dataset, \n",
    "                                          batch_size=batch_size, \n",
    "                                          shuffle=False)"
   ]
  },
  {
   "cell_type": "code",
   "execution_count": 5,
   "metadata": {},
   "outputs": [
    {
     "data": {
      "image/png": "[encoded data removed]",
      "text/plain": [
       "<matplotlib.figure.Figure at 0x7f4e6c383f98>"
      ]
     },
     "metadata": {},
     "output_type": "display_data"
    }
   ],
   "source": [
    "# Plot a grid of images\n",
    "def imshow(inp_tensor, title):\n",
    "    \"\"\"image show for Tensor\"\"\"\n",
    "    img = inp_tensor.numpy().transpose((1, 2, 0))\n",
    "    plt.imshow(img)\n",
    "    if title is not None:\n",
    "        plt.title(title)\n",
    "    plt.pause(0.001)\n",
    "\n",
    "# Get a batch\n",
    "trainset_iter = iter(train_loader)\n",
    "images, labels = trainset_iter.next()\n",
    "# show images\n",
    "batch_imgs = make_grid(images, nrow=batch_size)\n",
    "plt.axis('off')\n",
    "imshow(batch_imgs, title=[x for x in labels])"
   ]
  },
  {
   "attachments": {},
   "cell_type": "markdown",
   "metadata": {},
   "source": [
    "## Reconcile Logistic and Linear Regression\n",
    "\n",
    "To make logistic regression work with y = W.b + x, we need to make some changes to reconcile the differences stated above.\n",
    "\n",
    "### Feature transformation, x\n",
    "\n",
    "We can convert the 2-dimensional image features in our logistic regression example (assuming it has X rows, Y columns) into a 1-dimensional one (as required in linear regression) by appending each row of pixels one after another to the end of the first row of pixels as shown below.\n",
    "\n",
    "![Feature transformation](https://cdn-images-1.medium.com/max/1280/1*Vo8PMHppg_lWxFAZHZzNGQ.png)\n",
    "\n",
    "### Predicted Outcome Transformation, y\n",
    "\n",
    "For logistic regression, we cannot leave y (predicted outcome) as a scalar since the prediction may end up being 2.3, or 11, which is NOT in the possible classes of [0, 1, …, 9].\n",
    "\n",
    "To overcome this, the prediction y should be transformed into a single column vector (shown below as row vector to conserve space) where each element represents the score of what the logistic regression model thinks is likely a particular class. In the example below, class ‘1’ is the prediction since it has the highest score.\n",
    "\n",
    "![Predicted Outcome Transformation](https://cdn-images-1.medium.com/max/1280/1*Ld1fM5euVXm16mTf-4ifZA.png)\n",
    "\n",
    "To derive this vector of scores, for a given image, each pixel on it will contribute a set of scores (one for each class) indicating the likelihood it thinks the image is in a particular class, based **ONLY** on its own greyscale value. The sum of all the scores from every pixel for each class becomes the prediction vector.\n",
    "\n",
    "![Predicted Outcome Transformation 2](https://cdn-images-1.medium.com/max/1280/1*aOP0s2i587kDJW2Td7GNqQ.png)\n",
    "\n",
    "### Cost Function Transformation\n",
    "\n",
    "We cannot use as cost function, any function that involves numerical distance between predicted and actual outcomes. Such a cost function, for an image of ‘1’, will penalize a prediction of ‘7’, more heavily (7–1=6) than a prediction of ‘2’ (2–1=1), although both are equally wrong.\n",
    "\n",
    "The cost function we are going to use, cross entropy (H) involves multiple steps:\n",
    "\n",
    "1. Convert actual image class vector (y’) into a one-hot vector, which is a probability distribution\n",
    "2. Convert prediction class vector (y) into a probability distribution\n",
    "3. Use cross entropy function to calculate cost, which is the difference between 2 probability distribution function\n",
    "\n",
    "#### *Step 1. One-hot Vectors*\n",
    "\n",
    "Since we already transformed prediction (y) in to a vector of scores, we should also transform the actual image class (y’) into a vector as well; each element in the column vector represents a class with every element being ‘0’ except the element corresponding to the actual class being ‘1’. This is known as a one-hot vector. Below we show the one-hot vector for each class from 0 to 9.\n",
    "\n",
    "![one-hot-vector](https://cdn-images-1.medium.com/max/1280/1*YFh3GZ41PgQWAnB_LfmJVw.png)\n",
    "\n",
    "Assuming the actual (y’) image being 1, thus having a one-hot vector of [0, 1, 0, 0, 0, 0, 0, 0, 0, 0], and the prediction vector (y) of [1.3, 33, 2, 1.2, 3.2, 0.5, 3, 9.2, 1], plotting them for comparison becomes:\n",
    "\n",
    "![one-hot vs prob](https://cdn-images-1.medium.com/max/1280/1*HtZU15da9Tip9kF83YY7Ag.png)\n",
    "\n",
    "#### *Step 2. Probability Distribution with softmax*\n",
    "\n",
    "To mathematically compare similarity of two ‘graphs’, cross-entropy is a great way (and here is a fantastic albeit long explanation for those with a stomach for details).\n",
    "\n",
    "To utilize cross entropy however, we need to convert both the actual outcome vector (y’) and the prediction outcome vector (y) values into a ‘probability distribution’, and by ‘probability distribution’ we mean:\n",
    "\n",
    "- The probability/score of each class has to be between 0 to 1\n",
    "- The sum of all the probabilities/score for all classes has to be 1\n",
    "\n",
    "The actual outcome vector (y’) being one-hot vectors already satisfy these constraints.\n",
    "\n",
    "For prediction outcome vector (y), we can transform it into a probability distribution using softmax:\n",
    "\n",
    "![softmax](https://cdn-images-1.medium.com/max/1280/1*gmOykUVXXUYK7LPDVZHMBg.png)\n",
    "\n",
    "This is simply a 2-step process (see S1, S2 below), where each element in the prediction score vector (y), is exp’ed, and divided by the sum of the exp’ed total.\n",
    "\n",
    "![how softmax works](https://cdn-images-1.medium.com/max/1280/1*yHfAuzJud7Za0BGOT-mwAg.png)\n",
    "\n",
    "Note that softmax(y) graph is similar in shape to the prediction (y) graph but merely with larger max and smaller min values.\n",
    "\n",
    "![softmax vs pred](https://cdn-images-1.medium.com/max/1280/1*0BW3r-W89s9-8HUz_EhauA.png)\n",
    "\n",
    "#### *Step 3. Cross Entropy*\n",
    "\n",
    "We can now apply cross-entropy (H) between the predicted vector score probability distribution (y’) and the actual vector score probability distribution (y).\n",
    "\n",
    "The cross entropy formula is:\n",
    "\n",
    "![CE](https://cdn-images-1.medium.com/max/1280/1*eNII64IH9v4JLJo-jfOBug.png)\n",
    "\n",
    "To quickly understand this complex formula, we break it down into 3 parts (see below). Note that as notation in this article, we use y_i to represent “y with i subscript” in the formula H:\n",
    "\n",
    "![splitting CE](https://cdn-images-1.medium.com/max/1280/1*MlJX2kL8vRPQU5xcgvS8bQ.png)\n",
    "\n",
    "- Blue: Actual outcome vector, y_i’\n",
    "- Red: -log of the probability distribution of prediction class vector, (softmax(y_i)), explained previously\n",
    "- Green: Sum of multiplication of blue and red components for each image class i, where i = 0, 1, 2, …, 9\n",
    "\n",
    "The illustrations below should simplify understanding further.\n",
    "\n",
    "The blue plot is just the one-hot vector of actual image class (y’), see **One-hot Vector** section:\n",
    "\n",
    "![one hot vect](https://cdn-images-1.medium.com/max/1280/1*-vPuYJvh8l7uSBKTl9Vm4w.png)\n",
    "\n",
    "The red plot is derived from transformations of each prediction vector element, y, to softmax(y), to -log(softmax(y):\n",
    "\n",
    "![from pred to ce](https://cdn-images-1.medium.com/max/1280/1*AI9hbnU5SM8gLhGVhLASnQ.png)\n",
    "\n",
    "(IF author allows)\n",
    "If you wish to fully understand why -log(softmax(y)) inverses softmax(y), the second transformation, please check out the video or slides.\n",
    "\n",
    "The cross entropy (H), the green part (see below) is the multiplication of blue and red values for each class, and then summing them up as illustrated:\n",
    "\n",
    "![CE explained](https://cdn-images-1.medium.com/max/1280/1*1wMxL3RsjfdSHhcbPd3R3g.png)\n",
    "\n",
    "Since the blue plot is a one-hot vector, it has only a single element of 1, which is for the correct image class, all other multiplications in the cross entropy (H) is 0, and H simplifies to:\n",
    "```\n",
    "Cross Entropy (H) = -log(softmax(y_i))\n",
    "Where:\n",
    "- y_i: Predicted score/probability for correct image class\n",
    "```"
   ]
  },
  {
   "cell_type": "code",
   "execution_count": 19,
   "metadata": {},
   "outputs": [],
   "source": [
    "# Hyperparameter\n",
    "batch_size = 64\n",
    "\n",
    "# Training Dataset Loader (Input Pipline)\n",
    "train_loader = torch.utils.data.DataLoader(dataset=train_dataset, \n",
    "                                           batch_size=batch_size, \n",
    "                                           shuffle=True)\n",
    "# Testing Dataset Loader (Input Pipline)\n",
    "test_loader = torch.utils.data.DataLoader(dataset=test_dataset, \n",
    "                                          batch_size=batch_size, \n",
    "                                          shuffle=False)"
   ]
  },
  {
   "cell_type": "markdown",
   "metadata": {},
   "source": [
    "## Choose a Model\n",
    "\n",
    "We have defined in great details how transfrom our previous Linear Model to a Logistic Model. In the next snippet of code we will translate everything in PyTorch code. "
   ]
  },
  {
   "cell_type": "code",
   "execution_count": 20,
   "metadata": {
    "collapsed": true
   },
   "outputs": [],
   "source": [
    "# Hyperparameters\n",
    "input_size = 784 # 28 * 28\n",
    "num_classes = 10\n",
    "learning_rate = 1e-3\n",
    "\n",
    "#### Model ####\n",
    "# Logistic Regression Model\n",
    "class LogisticRegression(nn.Module):\n",
    "    def __init__(self, input_size, num_classes):\n",
    "        super(LogisticRegression, self).__init__()\n",
    "        self.linear = nn.Linear(input_size, num_classes)\n",
    "    \n",
    "    def forward(self, x):\n",
    "        out = self.linear(x)\n",
    "        return out\n",
    "\n",
    "model = LogisticRegression(input_size, num_classes)\n",
    "\n",
    "# If you are running a GPU instance, load the model on GPU\n",
    "if cuda:\n",
    "    model.cuda()\n",
    "    \n",
    "\n",
    "#### Loss and Optimizer ####\n",
    "# Softmax is internally computed.\n",
    "loss_fn = nn.CrossEntropyLoss()\n",
    "# If you are running a GPU instance, compute the loss on GPU\n",
    "if cuda:\n",
    "    loss_fn.cuda()\n",
    "    \n",
    "# Set parameters to be updated.  \n",
    "optimizer = torch.optim.SGD(model.parameters(), lr=learning_rate)"
   ]
  },
  {
   "cell_type": "markdown",
   "metadata": {},
   "source": [
    "## Train\n",
    "\n",
    "We will train our model for 5 epochs and evaluate on test set."
   ]
  },
  {
   "cell_type": "code",
   "execution_count": 21,
   "metadata": {},
   "outputs": [
    {
     "name": "stdout",
     "output_type": "stream",
     "text": [
      "Epoch: [1/5], Step: [100/937], Loss: 2.2347, Accuracy: 18.7500\n",
      "Epoch: [1/5], Step: [200/937], Loss: 2.1090, Accuracy: 37.5000\n",
      "Epoch: [1/5], Step: [300/937], Loss: 2.0425, Accuracy: 42.1875\n",
      "Epoch: [1/5], Step: [400/937], Loss: 1.9319, Accuracy: 62.5000\n",
      "Epoch: [1/5], Step: [500/937], Loss: 1.8402, Accuracy: 76.5625\n",
      "Epoch: [1/5], Step: [600/937], Loss: 1.7994, Accuracy: 65.6250\n",
      "Epoch: [1/5], Step: [700/937], Loss: 1.6974, Accuracy: 84.3750\n",
      "Epoch: [1/5], Step: [800/937], Loss: 1.6696, Accuracy: 73.4375\n",
      "Epoch: [1/5], Step: [900/937], Loss: 1.5868, Accuracy: 75.0000\n",
      "Epoch: [2/5], Step: [100/937], Loss: 1.5487, Accuracy: 76.5625\n",
      "Epoch: [2/5], Step: [200/937], Loss: 1.5950, Accuracy: 60.9375\n",
      "Epoch: [2/5], Step: [300/937], Loss: 1.4780, Accuracy: 70.3125\n",
      "Epoch: [2/5], Step: [400/937], Loss: 1.4457, Accuracy: 78.1250\n",
      "Epoch: [2/5], Step: [500/937], Loss: 1.3660, Accuracy: 81.2500\n",
      "Epoch: [2/5], Step: [600/937], Loss: 1.3485, Accuracy: 82.8125\n",
      "Epoch: [2/5], Step: [700/937], Loss: 1.2997, Accuracy: 78.1250\n",
      "Epoch: [2/5], Step: [800/937], Loss: 1.4035, Accuracy: 70.3125\n",
      "Epoch: [2/5], Step: [900/937], Loss: 1.2288, Accuracy: 79.6875\n",
      "Epoch: [3/5], Step: [100/937], Loss: 1.2426, Accuracy: 79.6875\n",
      "Epoch: [3/5], Step: [200/937], Loss: 1.1414, Accuracy: 84.3750\n",
      "Epoch: [3/5], Step: [300/937], Loss: 1.1072, Accuracy: 82.8125\n",
      "Epoch: [3/5], Step: [400/937], Loss: 1.1430, Accuracy: 73.4375\n",
      "Epoch: [3/5], Step: [500/937], Loss: 1.1539, Accuracy: 82.8125\n",
      "Epoch: [3/5], Step: [600/937], Loss: 1.0919, Accuracy: 76.5625\n",
      "Epoch: [3/5], Step: [700/937], Loss: 1.0331, Accuracy: 82.8125\n",
      "Epoch: [3/5], Step: [800/937], Loss: 1.0390, Accuracy: 81.2500\n",
      "Epoch: [3/5], Step: [900/937], Loss: 0.9982, Accuracy: 78.1250\n",
      "Epoch: [4/5], Step: [100/937], Loss: 0.9515, Accuracy: 81.2500\n",
      "Epoch: [4/5], Step: [200/937], Loss: 1.0885, Accuracy: 82.8125\n",
      "Epoch: [4/5], Step: [300/937], Loss: 1.0705, Accuracy: 76.5625\n",
      "Epoch: [4/5], Step: [400/937], Loss: 0.9282, Accuracy: 87.5000\n",
      "Epoch: [4/5], Step: [500/937], Loss: 1.0963, Accuracy: 71.8750\n",
      "Epoch: [4/5], Step: [600/937], Loss: 1.1103, Accuracy: 81.2500\n",
      "Epoch: [4/5], Step: [700/937], Loss: 0.7997, Accuracy: 90.6250\n",
      "Epoch: [4/5], Step: [800/937], Loss: 0.9690, Accuracy: 76.5625\n",
      "Epoch: [4/5], Step: [900/937], Loss: 0.9547, Accuracy: 82.8125\n",
      "Epoch: [5/5], Step: [100/937], Loss: 0.7696, Accuracy: 89.0625\n",
      "Epoch: [5/5], Step: [200/937], Loss: 1.0016, Accuracy: 79.6875\n",
      "Epoch: [5/5], Step: [300/937], Loss: 0.9178, Accuracy: 85.9375\n",
      "Epoch: [5/5], Step: [400/937], Loss: 0.8803, Accuracy: 84.3750\n",
      "Epoch: [5/5], Step: [500/937], Loss: 0.7988, Accuracy: 82.8125\n",
      "Epoch: [5/5], Step: [600/937], Loss: 0.9596, Accuracy: 82.8125\n",
      "Epoch: [5/5], Step: [700/937], Loss: 0.8231, Accuracy: 84.3750\n",
      "Epoch: [5/5], Step: [800/937], Loss: 0.7006, Accuracy: 85.9375\n",
      "Epoch: [5/5], Step: [900/937], Loss: 0.9677, Accuracy: 73.4375\n"
     ]
    }
   ],
   "source": [
    "# Hyperparameters\n",
    "num_epochs = 5\n",
    "print_every = 100\n",
    "\n",
    "# Metrics\n",
    "train_loss = []\n",
    "train_accu = []\n",
    "\n",
    "# Model train mode\n",
    "model.train()\n",
    "# Training the Model\n",
    "for epoch in range(num_epochs):\n",
    "    for i, (images, labels) in enumerate(train_loader):\n",
    "        # image unrolling\n",
    "        images = Variable(images.view(-1, 28*28))\n",
    "        labels = Variable(labels)\n",
    "        \n",
    "        if cuda:\n",
    "            images, labels = images.cuda(), labels.cuda()\n",
    "        \n",
    "        # Forward + Backward + Optimize\n",
    "        optimizer.zero_grad()\n",
    "        outputs = model(images)\n",
    "        loss = loss_fn(outputs, labels)\n",
    "        \n",
    "        # Load loss on CPU\n",
    "        if cuda:\n",
    "            loss.cpu()\n",
    "        loss.backward()\n",
    "        optimizer.step()\n",
    "        \n",
    "        ### Keep track of metric every batch\n",
    "        # Loss Metric\n",
    "        train_loss.append(loss.data[0])\n",
    "        # Accuracy Metric\n",
    "        prediction = outputs.data.max(1)[1]   # first column has actual prob.\n",
    "        accuracy = prediction.eq(labels.data).sum()/batch_size*100\n",
    "        train_accu.append(accuracy)\n",
    "        \n",
    "        # Log\n",
    "        if (i+1) % print_every == 0:\n",
    "            print ('Epoch: [%d/%d], Step: [%d/%d], Loss: %.4f, Accuracy: %.4f' \n",
    "                   % (epoch+1, num_epochs, i+1, len(train_dataset)//batch_size, loss.data[0], accuracy))"
   ]
  },
  {
   "cell_type": "code",
   "execution_count": 27,
   "metadata": {},
   "outputs": [
    {
     "data": {
      "text/plain": [
       "[<matplotlib.lines.Line2D at 0x7f4df9645278>]"
      ]
     },
     "execution_count": 27,
     "metadata": {},
     "output_type": "execute_result"
    },
    {
     "data": {
      "image/png": "[encoded data removed]",
      "text/plain": [
       "<matplotlib.figure.Figure at 0x7f4df9645400>"
      ]
     },
     "metadata": {},
     "output_type": "display_data"
    }
   ],
   "source": [
    "plt.xlabel(\"Steps\")\n",
    "plt.ylabel(\"Loss\")\n",
    "plt.title(\"Loss function over time\")\n",
    "plt.plot(np.arange(len(train_loss)), train_loss)"
   ]
  },
  {
   "cell_type": "code",
   "execution_count": 28,
   "metadata": {},
   "outputs": [
    {
     "data": {
      "text/plain": [
       "[<matplotlib.lines.Line2D at 0x7f4df96282b0>]"
      ]
     },
     "execution_count": 28,
     "metadata": {},
     "output_type": "execute_result"
    },
    {
     "data": {
      "image/png": "[encoded data removed]",
      "text/plain": [
       "<matplotlib.figure.Figure at 0x7f4df9628f28>"
      ]
     },
     "metadata": {},
     "output_type": "display_data"
    }
   ],
   "source": [
    "plt.xlabel(\"Steps\")\n",
    "plt.ylabel(\"Accuracy\")\n",
    "plt.title(\"Accuracy function over time\")\n",
    "plt.plot(np.arange(len(train_accu)), train_accu)"
   ]
  },
  {
   "cell_type": "markdown",
   "metadata": {},
   "source": [
    "## Evaluate\n",
    "\n",
    "Let's evaluate our model on test set."
   ]
  },
  {
   "cell_type": "code",
   "execution_count": 30,
   "metadata": {},
   "outputs": [
    {
     "name": "stdout",
     "output_type": "stream",
     "text": [
      "\n",
      "Test set: Accuracy: 84.51%\n"
     ]
    }
   ],
   "source": [
    "model.eval()\n",
    "correct = 0\n",
    "for data, target in test_loader:\n",
    "    data, target = Variable(data.view(-1, 28*28), volatile=True), Variable(target)\n",
    "    if cuda:\n",
    "        data, target = data.cuda(), target.cuda()\n",
    "    output = model(data)\n",
    "    # Load output on CPU\n",
    "    if cuda:\n",
    "        output.cpu()\n",
    "    prediction = output.data.max(1)[1]\n",
    "    correct += prediction.eq(target.data).sum()\n",
    "\n",
    "print('\\nTest set: Accuracy: {:.2f}%'.format(100. * correct / len(test_loader.dataset)))"
   ]
  },
  {
   "cell_type": "code",
   "execution_count": 49,
   "metadata": {},
   "outputs": [
    {
     "data": {
      "image/png": "[encoded data removed]",
      "text/plain": [
       "<matplotlib.figure.Figure at 0x7f4df3776860>"
      ]
     },
     "metadata": {},
     "output_type": "display_data"
    }
   ],
   "source": [
    "# Test Label\n",
    "\n",
    "# Hyperparameter\n",
    "batch_size = 10\n",
    "\n",
    "# Testing Dataset Loader (Input Pipline)\n",
    "test_loader = torch.utils.data.DataLoader(dataset=test_dataset, \n",
    "                                          batch_size=batch_size, \n",
    "                                          shuffle=False)\n",
    "\n",
    "# Plot a grid of images\n",
    "def imshow(inp_tensor, title):\n",
    "    \"\"\"image show for Tensor\"\"\"\n",
    "    img = inp_tensor.numpy().transpose((1, 2, 0))\n",
    "    plt.imshow(img)\n",
    "    if title is not None:\n",
    "        plt.title(title)\n",
    "    plt.pause(0.001)\n",
    "\n",
    "# Get a batch\n",
    "testset_iter = iter(test_loader)\n",
    "images, labels = testset_iter.next()\n",
    "# show images\n",
    "batch_imgs = make_grid(images, nrow=batch_size)\n",
    "plt.axis('off')\n",
    "imshow(batch_imgs, title=[x for x in labels])"
   ]
  },
  {
   "cell_type": "code",
   "execution_count": 50,
   "metadata": {},
   "outputs": [
    {
     "data": {
      "image/png": "[encoded data removed]",
      "text/plain": [
       "<matplotlib.figure.Figure at 0x7f4df93ef940>"
      ]
     },
     "metadata": {},
     "output_type": "display_data"
    }
   ],
   "source": [
    "# Result from Training\n",
    "\n",
    "input = Variable(images.view(-1, 28*28), volatile=True)\n",
    "output = model(input)\n",
    "# Load output on CPU\n",
    "if cuda:\n",
    "    output.cpu()\n",
    "    \n",
    "plt.axis('off')\n",
    "imshow(batch_imgs, title=[x for x in output.data.max(1)[1]])"
   ]
  },
  {
   "cell_type": "markdown",
   "metadata": {},
   "source": [
    "## Is it possible to do better?\n",
    "\n",
    "Of course it is! in the next episode we move into the realm of deep computation introducing Neural Network! It's time to go deeper."
   ]
  },
  {
   "cell_type": "markdown",
   "metadata": {},
   "source": [
    "## Summary\n",
    "\n",
    "We have reached another great milestone and a basic building block in our DL journey.\n",
    "\n",
    "- In this tutorial we have explored the MNIST dataset\n",
    "- We have introduced what is Logistic Regression, Softmax and Cross Entropy\n",
    "- We have trained the model for 5 epochs and plot log and accuracy\n",
    "- Finally we have evaluate the trained model reaching an accuracy of 84.51%"
   ]
  },
  {
   "cell_type": "markdown",
   "metadata": {
    "collapsed": true
   },
   "source": [
    "## It's you turn!\n",
    "\n",
    "Now it's your turn to test what you have learned on new knowledge: explore the dataset or take a new one, change hyperparamters, hack the logistic model, explore new loss functions, try others optimizers or if you are eager to learn, What are you expecting to move on the intermediate episode? ;)"
   ]
  },
  {
   "cell_type": "markdown",
   "metadata": {},
   "source": [
    "## Thanks and Resources\n",
    "\n",
    "Big thanks to:\n",
    "- ...\n",
    "\n",
    "Resources:\n",
    "- [the-gentlest-introduction-to-tensorflow](https://medium.com/all-of-us-are-belong-to-machines/gentlest-intro-to-tensorflow-4-logistic-regression-2afd0cabc54)\n",
    "- [yunjey-pytorch-tutorial](https://github.com/yunjey/pytorch-tutorial)\n",
    "- Dataset MNIST \n",
    "- [another MNIST example](https://github.com/rickiepark/pytorch-examples/blob/master/mnist.ipynb)\n",
    "- [PyTorch Dataset Example](https://github.com/ncullen93/torchsample/blob/master/examples/Transforms%20with%20Pytorch%20and%20Torchsample.ipynb)"
   ]
  }
 ],
 "metadata": {
  "kernelspec": {
   "display_name": "Python 3",
   "language": "python",
   "name": "python3"
  },
  "language_info": {
   "codemirror_mode": {
    "name": "ipython",
    "version": 3
   },
   "file_extension": ".py",
   "mimetype": "text/x-python",
   "name": "python",
   "nbconvert_exporter": "python",
   "pygments_lexer": "ipython3",
   "version": "3.5.3"
  }
 },
 "nbformat": 4,
 "nbformat_minor": 2
}
