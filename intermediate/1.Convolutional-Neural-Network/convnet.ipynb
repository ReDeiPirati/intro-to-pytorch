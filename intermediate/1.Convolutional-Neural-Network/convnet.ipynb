{
 "cells": [
  {
   "cell_type": "markdown",
   "metadata": {},
   "source": [
    "# FloyHub introduction to Deep Learning: Convolutional Neural Networks"
   ]
  },
  {
   "cell_type": "markdown",
   "metadata": {},
   "source": [
    "### Abstract\n",
    "\n",
    "TODO"
   ]
  },
  {
   "cell_type": "markdown",
   "metadata": {},
   "source": [
    "## Introduction\n",
    "\n",
    "TODO\n",
    "\n",
    "#### Table of Contents:\n",
    "- ...\n"
   ]
  },
  {
   "cell_type": "markdown",
   "metadata": {},
   "source": [
    "### Collect a Dataset\n",
    "\n",
    "For this task we will use the MNIST dataset that we have already uploaded for you as FloydHub dataset. If you have followed the steps in the README.md or in the article, you will be able to load the MNIST dataset from the input path.\n",
    "First of all we import all the packages we need for running this tutorial:\n",
    "- `torch`, our DL framework\n",
    "- `torchvision`, package to handle pytorch Dataset for computer vision task\n",
    "- `torch.nn`, package we need to create our Models\n",
    "- `numpy` package to handle vector representation\n",
    "- `matplotlib` to plot graphs"
   ]
  },
  {
   "cell_type": "code",
   "execution_count": 1,
   "metadata": {
    "collapsed": true
   },
   "outputs": [],
   "source": [
    "import torch\n",
    "import torchvision.datasets as dsets\n",
    "import torch.nn as nn\n",
    "import torchvision.transforms as transforms\n",
    "from torch.autograd import Variable\n",
    "from torchvision.utils import make_grid\n",
    "import numpy as np\n",
    "import matplotlib.pyplot as plt\n",
    "%matplotlib inline\n",
    "\n",
    "# CUDA?\n",
    "cuda = torch.cuda.is_available()\n",
    "\n",
    "# Seed for replicability\n",
    "torch.manual_seed(1)\n",
    "if cuda:\n",
    "    torch.cuda.manual_seed(1)"
   ]
  },
  {
   "cell_type": "markdown",
   "metadata": {},
   "source": [
    "The torchvision package consists of popular datasets, model architectures, and common image transformations for computer vision. torchvision.datasets provide a great API to handle the MNIST dataset. The snippet of code below, will create the MNIST dataset, then we will dive into to take a look about MNIST samples."
   ]
  },
  {
   "cell_type": "code",
   "execution_count": 2,
   "metadata": {},
   "outputs": [
    {
     "name": "stdout",
     "output_type": "stream",
     "text": [
      "Training Data Size:  torch.Size([60000, 28, 28]) - torch.Size([60000])\n",
      "Testing Data Size:  torch.Size([10000, 28, 28]) - torch.Size([10000])\n"
     ]
    },
    {
     "data": {
      "image/png": "[encoded data removed]",
      "text/plain": [
       "<matplotlib.figure.Figure at 0x7f4a2dee34e0>"
      ]
     },
     "metadata": {},
     "output_type": "display_data"
    }
   ],
   "source": [
    "# MNIST Dataset (Images and Labels)\n",
    "# If you have not mounted the dataset, you can download it\n",
    "# just adding download=True as parameter\n",
    "train_dataset = dsets.MNIST(root='/input', \n",
    "                            train=True, \n",
    "                            transform=transforms.ToTensor())\n",
    "x_train_mnist, y_train_mnist = train_dataset.train_data.type(torch.FloatTensor), train_dataset.train_labels\n",
    "test_dataset = dsets.MNIST(root='/input', \n",
    "                           train=False, \n",
    "                           transform=transforms.ToTensor())\n",
    "x_test_mnist, y_test_mnist = test_dataset.test_data.type(torch.FloatTensor), test_dataset.test_labels\n",
    "\n",
    "print('Training Data Size: ' ,x_train_mnist.size(), '-', y_train_mnist.size())\n",
    "print('Testing Data Size: ' ,x_test_mnist.size(), '-', y_test_mnist.size())\n",
    "\n",
    "plt.imshow(x_train_mnist[0].numpy(), cmap='gray')\n",
    "plt.title('DIGIT: %i' % y_train_mnist[0])\n",
    "plt.axis('off')\n",
    "plt.show()"
   ]
  },
  {
   "cell_type": "markdown",
   "metadata": {},
   "source": [
    "torch.utils.data.DataLoader combines a dataset and a sampler, and provides single or multi-process iterators over the dataset."
   ]
  },
  {
   "cell_type": "code",
   "execution_count": 3,
   "metadata": {
    "collapsed": true
   },
   "outputs": [],
   "source": [
    "# Hyperparameter\n",
    "batch_size = 8\n",
    "\n",
    "# Training Dataset Loader (Input Pipline)\n",
    "train_loader = torch.utils.data.DataLoader(dataset=train_dataset, \n",
    "                                           batch_size=batch_size, \n",
    "                                           shuffle=True)\n",
    "# Testing Dataset Loader (Input Pipline)\n",
    "test_loader = torch.utils.data.DataLoader(dataset=test_dataset, \n",
    "                                          batch_size=batch_size, \n",
    "                                          shuffle=False)"
   ]
  },
  {
   "cell_type": "code",
   "execution_count": 4,
   "metadata": {},
   "outputs": [
    {
     "data": {
      "image/png": "[encoded data removed]",
      "text/plain": [
       "<matplotlib.figure.Figure at 0x7f4a2df29860>"
      ]
     },
     "metadata": {},
     "output_type": "display_data"
    }
   ],
   "source": [
    "# Plot a grid of images\n",
    "def imshow(inp_tensor, title):\n",
    "    \"\"\"image show for Tensor\"\"\"\n",
    "    img = inp_tensor.numpy().transpose((1, 2, 0))\n",
    "    plt.imshow(img)\n",
    "    if title is not None:\n",
    "        plt.title(title)\n",
    "    plt.pause(0.001)\n",
    "\n",
    "# Get a batch\n",
    "trainset_iter = iter(train_loader)\n",
    "images, labels = trainset_iter.next()\n",
    "# show images\n",
    "batch_imgs = make_grid(images, nrow=batch_size)\n",
    "plt.axis('off')\n",
    "imshow(batch_imgs, title=[x for x in labels])"
   ]
  },
  {
   "cell_type": "markdown",
   "metadata": {},
   "source": [
    "### Convolutional Neural Network\n",
    "\n",
    "..."
   ]
  },
  {
   "cell_type": "code",
   "execution_count": 6,
   "metadata": {
    "collapsed": true
   },
   "outputs": [],
   "source": [
    "# Hyperparameter\n",
    "batch_size = 64\n",
    "\n",
    "# Training Dataset Loader (Input Pipline)\n",
    "train_loader = torch.utils.data.DataLoader(dataset=train_dataset, \n",
    "                                           batch_size=batch_size, \n",
    "                                           shuffle=True)\n",
    "# Testing Dataset Loader (Input Pipline)\n",
    "test_loader = torch.utils.data.DataLoader(dataset=test_dataset, \n",
    "                                          batch_size=batch_size, \n",
    "                                          shuffle=False)"
   ]
  },
  {
   "cell_type": "markdown",
   "metadata": {},
   "source": [
    "### Build the Model\n",
    "\n",
    "We have defined in great details Neural Network. In the next snippet of code we will translate everything in PyTorch code."
   ]
  },
  {
   "cell_type": "code",
   "execution_count": 8,
   "metadata": {},
   "outputs": [],
   "source": [
    "# Hyperparameters\n",
    "input_size = 784 # 28 * 28\n",
    "hidden_size = 500\n",
    "num_classes = 10\n",
    "learning_rate = 1e-3\n",
    "\n",
    "#### Model ####\n",
    "# Convolutional Neural Network Model\n",
    "class CNN(nn.Module):\n",
    "    def __init__(self, num_classes):\n",
    "        super(CNN, self).__init__()\n",
    "        self.layer1 = nn.Sequential(\n",
    "            nn.Conv2d(1, 16, kernel_size=5, padding=2),\n",
    "            nn.BatchNorm2d(16),\n",
    "            nn.ReLU(),\n",
    "            nn.MaxPool2d(2))\n",
    "        self.layer2 = nn.Sequential(\n",
    "            nn.Conv2d(16, 32, kernel_size=5, padding=2),\n",
    "            nn.BatchNorm2d(32),\n",
    "            nn.ReLU(),\n",
    "            nn.MaxPool2d(2))\n",
    "        self.fc = nn.Linear(7*7*32, num_classes)\n",
    "        \n",
    "    def forward(self, x):\n",
    "        out = self.layer1(x)\n",
    "        out = self.layer2(out)\n",
    "        out = out.view(out.size(0), -1)\n",
    "        out = self.fc(out)\n",
    "        return out\n",
    "    \n",
    "    \n",
    "model = CNN(num_classes)\n",
    "\n",
    "# If you are running a GPU instance, load the model on GPU\n",
    "if cuda:\n",
    "    model.cuda()\n",
    "    \n",
    "\n",
    "#### Loss and Optimizer ####\n",
    "# Softmax is internally computed.\n",
    "loss_fn = nn.CrossEntropyLoss()\n",
    "# If you are running a GPU instance, compute the loss on GPU\n",
    "if cuda:\n",
    "    loss_fn.cuda()\n",
    "    \n",
    "# Set parameters to be updated.  \n",
    "optimizer = torch.optim.Adam(model.parameters(), lr=learning_rate)  "
   ]
  },
  {
   "cell_type": "markdown",
   "metadata": {},
   "source": [
    "### Train\n",
    "We will train our model for 5 epochs and evaluate on test set."
   ]
  },
  {
   "cell_type": "code",
   "execution_count": 10,
   "metadata": {},
   "outputs": [
    {
     "name": "stdout",
     "output_type": "stream",
     "text": [
      "Epoch: [1/5], Step: [100/937], Loss: 0.3449, Accuracy: 90.6250\n",
      "Epoch: [1/5], Step: [200/937], Loss: 0.1222, Accuracy: 95.3125\n",
      "Epoch: [1/5], Step: [300/937], Loss: 0.0907, Accuracy: 96.8750\n",
      "Epoch: [1/5], Step: [400/937], Loss: 0.0311, Accuracy: 100.0000\n",
      "Epoch: [1/5], Step: [500/937], Loss: 0.0467, Accuracy: 98.4375\n",
      "Epoch: [1/5], Step: [600/937], Loss: 0.0659, Accuracy: 98.4375\n",
      "Epoch: [1/5], Step: [700/937], Loss: 0.0240, Accuracy: 100.0000\n",
      "Epoch: [1/5], Step: [800/937], Loss: 0.0256, Accuracy: 98.4375\n",
      "Epoch: [1/5], Step: [900/937], Loss: 0.0170, Accuracy: 100.0000\n",
      "Epoch: [2/5], Step: [100/937], Loss: 0.0298, Accuracy: 100.0000\n",
      "Epoch: [2/5], Step: [200/937], Loss: 0.0195, Accuracy: 100.0000\n",
      "Epoch: [2/5], Step: [300/937], Loss: 0.0396, Accuracy: 98.4375\n",
      "Epoch: [2/5], Step: [400/937], Loss: 0.0282, Accuracy: 100.0000\n",
      "Epoch: [2/5], Step: [500/937], Loss: 0.0406, Accuracy: 98.4375\n",
      "Epoch: [2/5], Step: [600/937], Loss: 0.0070, Accuracy: 100.0000\n",
      "Epoch: [2/5], Step: [700/937], Loss: 0.0795, Accuracy: 98.4375\n",
      "Epoch: [2/5], Step: [800/937], Loss: 0.0335, Accuracy: 98.4375\n",
      "Epoch: [2/5], Step: [900/937], Loss: 0.0087, Accuracy: 100.0000\n",
      "Epoch: [3/5], Step: [100/937], Loss: 0.0055, Accuracy: 100.0000\n",
      "Epoch: [3/5], Step: [200/937], Loss: 0.0616, Accuracy: 98.4375\n",
      "Epoch: [3/5], Step: [300/937], Loss: 0.0074, Accuracy: 100.0000\n",
      "Epoch: [3/5], Step: [400/937], Loss: 0.0434, Accuracy: 98.4375\n",
      "Epoch: [3/5], Step: [500/937], Loss: 0.0076, Accuracy: 100.0000\n",
      "Epoch: [3/5], Step: [600/937], Loss: 0.1069, Accuracy: 96.8750\n",
      "Epoch: [3/5], Step: [700/937], Loss: 0.0047, Accuracy: 100.0000\n",
      "Epoch: [3/5], Step: [800/937], Loss: 0.0593, Accuracy: 95.3125\n",
      "Epoch: [3/5], Step: [900/937], Loss: 0.0391, Accuracy: 98.4375\n",
      "Epoch: [4/5], Step: [100/937], Loss: 0.1517, Accuracy: 95.3125\n",
      "Epoch: [4/5], Step: [200/937], Loss: 0.0161, Accuracy: 100.0000\n",
      "Epoch: [4/5], Step: [300/937], Loss: 0.0120, Accuracy: 100.0000\n",
      "Epoch: [4/5], Step: [400/937], Loss: 0.0609, Accuracy: 98.4375\n",
      "Epoch: [4/5], Step: [500/937], Loss: 0.0083, Accuracy: 100.0000\n",
      "Epoch: [4/5], Step: [600/937], Loss: 0.0724, Accuracy: 96.8750\n",
      "Epoch: [4/5], Step: [700/937], Loss: 0.0189, Accuracy: 98.4375\n",
      "Epoch: [4/5], Step: [800/937], Loss: 0.0019, Accuracy: 100.0000\n",
      "Epoch: [4/5], Step: [900/937], Loss: 0.0051, Accuracy: 100.0000\n",
      "Epoch: [5/5], Step: [100/937], Loss: 0.0139, Accuracy: 98.4375\n",
      "Epoch: [5/5], Step: [200/937], Loss: 0.0089, Accuracy: 100.0000\n",
      "Epoch: [5/5], Step: [300/937], Loss: 0.0120, Accuracy: 100.0000\n",
      "Epoch: [5/5], Step: [400/937], Loss: 0.0020, Accuracy: 100.0000\n",
      "Epoch: [5/5], Step: [500/937], Loss: 0.0102, Accuracy: 100.0000\n",
      "Epoch: [5/5], Step: [600/937], Loss: 0.0263, Accuracy: 98.4375\n",
      "Epoch: [5/5], Step: [700/937], Loss: 0.0143, Accuracy: 98.4375\n",
      "Epoch: [5/5], Step: [800/937], Loss: 0.0301, Accuracy: 98.4375\n",
      "Epoch: [5/5], Step: [900/937], Loss: 0.0773, Accuracy: 98.4375\n"
     ]
    }
   ],
   "source": [
    "# Hyperparameters\n",
    "num_epochs = 5\n",
    "print_every = 100\n",
    "\n",
    "# Metrics\n",
    "train_loss = []\n",
    "train_accu = []\n",
    "\n",
    "# Model train mode\n",
    "model.train()\n",
    "# Training the Model\n",
    "for epoch in range(num_epochs):\n",
    "    for i, (images, labels) in enumerate(train_loader):\n",
    "        # image unrolling\n",
    "        images = Variable(images)\n",
    "        labels = Variable(labels)\n",
    "        \n",
    "        if cuda:\n",
    "            images, labels = images.cuda(), labels.cuda()\n",
    "        \n",
    "        # Forward + Backward + Optimize\n",
    "        optimizer.zero_grad()\n",
    "        outputs = model(images)\n",
    "        loss = loss_fn(outputs, labels)\n",
    "        \n",
    "        # Load loss on CPU\n",
    "        if cuda:\n",
    "            loss.cpu()\n",
    "        loss.backward()\n",
    "        optimizer.step()\n",
    "        \n",
    "        ### Keep track of metric every batch\n",
    "        # Loss Metric\n",
    "        train_loss.append(loss.data[0])\n",
    "        # Accuracy Metric\n",
    "        prediction = outputs.data.max(1)[1]   # first column has actual prob.\n",
    "        accuracy = prediction.eq(labels.data).sum()/batch_size*100\n",
    "        train_accu.append(accuracy)\n",
    "        \n",
    "        # Log\n",
    "        if (i+1) % print_every == 0:\n",
    "            print ('Epoch: [%d/%d], Step: [%d/%d], Loss: %.4f, Accuracy: %.4f' \n",
    "                   % (epoch+1, num_epochs, i+1, len(train_dataset)//batch_size, loss.data[0], accuracy))"
   ]
  },
  {
   "cell_type": "code",
   "execution_count": 11,
   "metadata": {},
   "outputs": [
    {
     "data": {
      "text/plain": [
       "[<matplotlib.lines.Line2D at 0x7f4a1b4d36d8>]"
      ]
     },
     "execution_count": 11,
     "metadata": {},
     "output_type": "execute_result"
    },
    {
     "data": {
      "image/png": "[encoded data removed]",
      "text/plain": [
       "<matplotlib.figure.Figure at 0x7f4a1b4d36a0>"
      ]
     },
     "metadata": {},
     "output_type": "display_data"
    }
   ],
   "source": [
    "plt.xlabel(\"Steps\")\n",
    "plt.ylabel(\"Loss\")\n",
    "plt.title(\"Loss function over time\")\n",
    "plt.plot(np.arange(len(train_loss)), train_loss)"
   ]
  },
  {
   "cell_type": "code",
   "execution_count": 12,
   "metadata": {},
   "outputs": [
    {
     "data": {
      "text/plain": [
       "[<matplotlib.lines.Line2D at 0x7f4a1b4ab518>]"
      ]
     },
     "execution_count": 12,
     "metadata": {},
     "output_type": "execute_result"
    },
    {
     "data": {
      "image/png": "[encoded data removed]",
      "text/plain": [
       "<matplotlib.figure.Figure at 0x7f4a1b4a7ef0>"
      ]
     },
     "metadata": {},
     "output_type": "display_data"
    }
   ],
   "source": [
    "plt.xlabel(\"Steps\")\n",
    "plt.ylabel(\"Accuracy\")\n",
    "plt.title(\"Accuracy function over time\")\n",
    "plt.plot(np.arange(len(train_accu)), train_accu)"
   ]
  },
  {
   "cell_type": "markdown",
   "metadata": {},
   "source": [
    "### Evaluate\n",
    "Let's evaluate our model on test set."
   ]
  },
  {
   "cell_type": "code",
   "execution_count": 14,
   "metadata": {},
   "outputs": [
    {
     "name": "stdout",
     "output_type": "stream",
     "text": [
      "\n",
      "Test set: Accuracy: 99.02%\n"
     ]
    }
   ],
   "source": [
    "model.eval()\n",
    "correct = 0\n",
    "for data, target in test_loader:\n",
    "    data, target = Variable(data, volatile=True), Variable(target)\n",
    "    if cuda:\n",
    "        data, target = data.cuda(), target.cuda()\n",
    "    output = model(data)\n",
    "    # Load output on CPU\n",
    "    if cuda:\n",
    "        output.cpu()\n",
    "    prediction = output.data.max(1)[1]\n",
    "    correct += prediction.eq(target.data).sum()\n",
    "\n",
    "print('\\nTest set: Accuracy: {:.2f}%'.format(100. * correct / len(test_loader.dataset)))"
   ]
  },
  {
   "cell_type": "code",
   "execution_count": 15,
   "metadata": {},
   "outputs": [
    {
     "data": {
      "image/png": "[encoded data removed]",
      "text/plain": [
       "<matplotlib.figure.Figure at 0x7f4a1b589160>"
      ]
     },
     "metadata": {},
     "output_type": "display_data"
    }
   ],
   "source": [
    "# Test Label\n",
    "\n",
    "# Hyperparameter\n",
    "batch_size = 10\n",
    "\n",
    "# Testing Dataset Loader (Input Pipline)\n",
    "test_loader = torch.utils.data.DataLoader(dataset=test_dataset, \n",
    "                                          batch_size=batch_size, \n",
    "                                          shuffle=False)\n",
    "\n",
    "# Plot a grid of images\n",
    "def imshow(inp_tensor, title):\n",
    "    \"\"\"image show for Tensor\"\"\"\n",
    "    img = inp_tensor.numpy().transpose((1, 2, 0))\n",
    "    plt.imshow(img)\n",
    "    if title is not None:\n",
    "        plt.title(title)\n",
    "    plt.pause(0.001)\n",
    "\n",
    "# Get a batch\n",
    "testset_iter = iter(test_loader)\n",
    "images, labels = testset_iter.next()\n",
    "# show images\n",
    "batch_imgs = make_grid(images, nrow=batch_size)\n",
    "plt.axis('off')\n",
    "imshow(batch_imgs, title=[x for x in labels])"
   ]
  },
  {
   "cell_type": "code",
   "execution_count": 16,
   "metadata": {},
   "outputs": [
    {
     "data": {
      "image/png": "[encoded data removed]",
      "text/plain": [
       "<matplotlib.figure.Figure at 0x7f4a1b43cdd8>"
      ]
     },
     "metadata": {},
     "output_type": "display_data"
    }
   ],
   "source": [
    "# Result from Training\n",
    "\n",
    "input = Variable(images, volatile=True)\n",
    "output = model(input)\n",
    "# Load output on CPU\n",
    "if cuda:\n",
    "    output.cpu()\n",
    "    \n",
    "plt.axis('off')\n",
    "imshow(batch_imgs, title=[x for x in output.data.max(1)[1]])"
   ]
  },
  {
   "cell_type": "markdown",
   "metadata": {},
   "source": [
    "### Is it possible to do better?\n",
    "\n",
    "TODO"
   ]
  },
  {
   "cell_type": "markdown",
   "metadata": {},
   "source": [
    "### Summary\n",
    "\n",
    "TODO"
   ]
  },
  {
   "cell_type": "markdown",
   "metadata": {},
   "source": [
    "### It's you turn!\n",
    "\n",
    "TODO"
   ]
  },
  {
   "cell_type": "markdown",
   "metadata": {},
   "source": [
    "### Thanks and Resources\n",
    "\n",
    "TODO"
   ]
  }
 ],
 "metadata": {
  "kernelspec": {
   "display_name": "Python 3",
   "language": "python",
   "name": "python3"
  },
  "language_info": {
   "codemirror_mode": {
    "name": "ipython",
    "version": 3
   },
   "file_extension": ".py",
   "mimetype": "text/x-python",
   "name": "python",
   "nbconvert_exporter": "python",
   "pygments_lexer": "ipython3",
   "version": "3.5.3"
  }
 },
 "nbformat": 4,
 "nbformat_minor": 2
}
