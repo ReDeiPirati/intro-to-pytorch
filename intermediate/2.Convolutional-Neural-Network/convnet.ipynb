{
 "cells": [
  {
   "cell_type": "markdown",
   "metadata": {},
   "source": [
    "# FloyHub introduction to Deep Learning: Convolutional Neural Networks"
   ]
  },
  {
   "cell_type": "markdown",
   "metadata": {},
   "source": [
    "### Abstract\n",
    "\n",
    "It's time to exploiting local spatial features using state-of-the-art class of models for CV task: Convolutional Neural Networks."
   ]
  },
  {
   "cell_type": "markdown",
   "metadata": {},
   "source": [
    "## Introduction\n",
    "\n",
    "In this tutorial, you’ll learn the architecture of a convolutional neural network (CNN), how to create a CNN in Pytorch, and provide predictions on labels of images for the MNIST dataset. We recommend to run this tutorial on GPU to improve the convergenece time and familiarize with Pytorch on GPU.\n",
    "\n",
    "#### Table of Contents:\n",
    "- ...\n"
   ]
  },
  {
   "cell_type": "markdown",
   "metadata": {},
   "source": [
    "### Collect a Dataset\n",
    "\n",
    "For this task we will use the MNIST dataset that we have already uploaded for you as FloydHub dataset. If you have followed the steps in the README.md or in the article, you will be able to load the MNIST dataset from the input path.\n",
    "First of all we import all the packages we need for running this tutorial:\n",
    "- `torch`, our DL framework\n",
    "- `torchvision`, package to handle pytorch Dataset for computer vision task\n",
    "- `torch.nn`, package we need to create our Models\n",
    "- `numpy` package to handle vector representation\n",
    "- `matplotlib` to plot graphs"
   ]
  },
  {
   "cell_type": "code",
   "execution_count": 1,
   "metadata": {
    "collapsed": true
   },
   "outputs": [],
   "source": [
    "import torch\n",
    "import torchvision.datasets as dsets\n",
    "import torch.nn as nn\n",
    "import torch.nn.functional as F\n",
    "import torchvision.transforms as transforms\n",
    "from torch.autograd import Variable\n",
    "from torchvision.utils import make_grid\n",
    "import numpy as np\n",
    "import matplotlib.pyplot as plt\n",
    "%matplotlib inline\n",
    "\n",
    "# CUDA?\n",
    "cuda = torch.cuda.is_available()\n",
    "\n",
    "# Seed for replicability\n",
    "torch.manual_seed(1)\n",
    "if cuda:\n",
    "    torch.cuda.manual_seed(1)"
   ]
  },
  {
   "cell_type": "markdown",
   "metadata": {},
   "source": [
    "The torchvision package consists of popular datasets, model architectures, and common image transformations for computer vision. torchvision.datasets provide a great API to handle the MNIST dataset. The snippet of code below, will create the MNIST dataset, then we will dive into to take a look about MNIST samples."
   ]
  },
  {
   "cell_type": "code",
   "execution_count": 2,
   "metadata": {},
   "outputs": [
    {
     "name": "stdout",
     "output_type": "stream",
     "text": [
      "Training Data Size:  torch.Size([60000, 28, 28]) - torch.Size([60000])\n",
      "Testing Data Size:  torch.Size([10000, 28, 28]) - torch.Size([10000])\n"
     ]
    },
    {
     "data": {
      "image/png": "[encoded data removed]",
      "text/plain": [
       "<matplotlib.figure.Figure at 0x7f373a0e3748>"
      ]
     },
     "metadata": {},
     "output_type": "display_data"
    }
   ],
   "source": [
    "# MNIST Dataset (Images and Labels)\n",
    "# If you have not mounted the dataset, you can download it\n",
    "# just adding download=True as parameter\n",
    "train_dataset = dsets.MNIST(root='/input', \n",
    "                            train=True, \n",
    "                            transform=transforms.ToTensor())\n",
    "x_train_mnist, y_train_mnist = train_dataset.train_data.type(torch.FloatTensor), train_dataset.train_labels\n",
    "test_dataset = dsets.MNIST(root='/input', \n",
    "                           train=False, \n",
    "                           transform=transforms.ToTensor())\n",
    "x_test_mnist, y_test_mnist = test_dataset.test_data.type(torch.FloatTensor), test_dataset.test_labels\n",
    "\n",
    "print('Training Data Size: ' ,x_train_mnist.size(), '-', y_train_mnist.size())\n",
    "print('Testing Data Size: ' ,x_test_mnist.size(), '-', y_test_mnist.size())\n",
    "\n",
    "plt.imshow(x_train_mnist[0].numpy(), cmap='gray')\n",
    "plt.title('DIGIT: %i' % y_train_mnist[0])\n",
    "plt.axis('off')\n",
    "plt.show()"
   ]
  },
  {
   "cell_type": "markdown",
   "metadata": {},
   "source": [
    "torch.utils.data.DataLoader combines a dataset and a sampler, and provides single or multi-process iterators over the dataset."
   ]
  },
  {
   "cell_type": "code",
   "execution_count": 3,
   "metadata": {
    "collapsed": true
   },
   "outputs": [],
   "source": [
    "# Hyperparameter\n",
    "batch_size = 8\n",
    "\n",
    "# Training Dataset Loader (Input Pipline)\n",
    "train_loader = torch.utils.data.DataLoader(dataset=train_dataset, \n",
    "                                           batch_size=batch_size, \n",
    "                                           shuffle=True)\n",
    "# Testing Dataset Loader (Input Pipline)\n",
    "test_loader = torch.utils.data.DataLoader(dataset=test_dataset, \n",
    "                                          batch_size=batch_size, \n",
    "                                          shuffle=False)"
   ]
  },
  {
   "cell_type": "code",
   "execution_count": 4,
   "metadata": {},
   "outputs": [
    {
     "data": {
      "image/png": "[encoded data removed]",
      "text/plain": [
       "<matplotlib.figure.Figure at 0x7f37960f9fd0>"
      ]
     },
     "metadata": {},
     "output_type": "display_data"
    }
   ],
   "source": [
    "# Plot a grid of images\n",
    "def imshow(inp_tensor, title):\n",
    "    \"\"\"image show for Tensor\"\"\"\n",
    "    img = inp_tensor.numpy().transpose((1, 2, 0))\n",
    "    plt.imshow(img)\n",
    "    if title is not None:\n",
    "        plt.title(title)\n",
    "    plt.pause(0.001)\n",
    "\n",
    "# Get a batch\n",
    "trainset_iter = iter(train_loader)\n",
    "images, labels = trainset_iter.next()\n",
    "# show images\n",
    "batch_imgs = make_grid(images, nrow=batch_size)\n",
    "plt.axis('off')\n",
    "imshow(batch_imgs, title=[x for x in labels])"
   ]
  },
  {
   "cell_type": "markdown",
   "metadata": {},
   "source": [
    "### Convolutional Neural Network\n",
    "\n",
    "Convolutional neural networks are the current state-of-art architecture for image classification. They’re used in practice today in facial recognition, self driving cars, and detecting whether an object is a hot-dog.\n",
    "\n",
    "#### Basic Architecture\n",
    "The basics of a CNN architecture consist of 3 components. A convolution, pooling, and fully connected layer. These components work together to learn a dense feature representation of an input.\n",
    "\n",
    "#### Convolution\n",
    "\n",
    "![Conv visualization](https://cdn-images-1.medium.com/max/1600/1*1VJDP6qDY9-ExTuQVEOlVg.gif)\n",
    "\n",
    "A convolution consists of a **kernel** *(green square above)*, also called filter, that is applied in a sliding window fashion to extract features from the input. This filter is shifted after each operation across the input by an amount called **strides**. At each operation, a matrix multiply of the kernel and current region of input is calculated. Filters can be stacked to create high-dimensional representations of the input.\n",
    "\n",
    "```\n",
    "What happens if the filter doesn’t evenly map to the size of the input ?\n",
    "```\n",
    "\n",
    "There are two ways of handling differing filter size and input size, known as **same** padding and **valid** padding. Same padding will pad the input border with zeros (as seen above) to ensure the input width and height are preserved. Valid padding does not pad.\n",
    "\n",
    "Typically, you’ll want to use same padding or you’ll rapidly reduce the dimensionality of your input.\n",
    "\n",
    "Finally, an activation function (typically a [ReLU](https://en.wikipedia.org/wiki/Rectifier_%28neural_networks%29)) is applied to give the convolution non-linearity. ReLU’s are a bit different from other activation functions, such as sigmoid or tanh, as ReLUs are one-sided. This one-sided property allows the network to create sparse representation (zero value for hidden units), increasing computational efficiency.\n",
    "\n",
    "![ReLu](https://cdn-images-1.medium.com/max/1600/1*5dklg6CDKStDhmkL2SPfmA.png)\n",
    "\n",
    "#### Pooling\n",
    "\n",
    "Pooling is an operation to reduce dimensionality. It applies a function summarizing neighboring information. Two common functions are max pooling and average pooling. By calculating the max of an input region, the output summarizes intensity of surrounding values.\n",
    "\n",
    "Pooling layers also have a kernel, padding and are moved in strides. To calculate the output size of a pooling operation, you can use the formula:\n",
    "\n",
    "```\n",
    "output_size = (Input Width - kernel width + 2 * padding) / strides + 1 \n",
    "```\n",
    "\n",
    "![Pool](https://cdn-images-1.medium.com/max/1600/1*Ixw2W_3ZPiaerKNOrEcXig.jpeg)\n",
    "\n",
    "#### Fully Connected Layer\n",
    "\n",
    "Fully connected layers you are likely familiar with from neural networks. Each neuron in the input is connected to each neuron in the output; fully-connected. Due to this connectivity, each neuron in the output will be used at most one time.\n",
    "\n",
    "![fc](https://cdn-images-1.medium.com/max/1600/1*JnvYW8ehgC92BYY9v9ZXZg.gif)\n",
    "\n",
    "In a CNN, the input is fed from the pooling layer into the fully connected layer. Depending on the task, a regression or classification algorithm can be applied to create the desired output.\n",
    "\n",
    "#### Review\n",
    "\n",
    "You’ve now learned about what makes up a convolutional neural network. By passing input through a convolution, you extract highly-dimensional features. Pooling summarizes spatial information and reduces dimensionality. Lastly, this feature representation is passed through fully connected layers to a classifier or regressor.\n",
    "\n",
    "![mnist cnn model](https://github.com/floydhub/mnist/blob/master/images/mnist_convet.png?raw=true)"
   ]
  },
  {
   "cell_type": "code",
   "execution_count": 5,
   "metadata": {
    "collapsed": true
   },
   "outputs": [],
   "source": [
    "# Hyperparameter\n",
    "batch_size = 64\n",
    "\n",
    "# Training Dataset Loader (Input Pipline)\n",
    "train_loader = torch.utils.data.DataLoader(dataset=train_dataset, \n",
    "                                           batch_size=batch_size, \n",
    "                                           shuffle=True)\n",
    "# Testing Dataset Loader (Input Pipline)\n",
    "test_loader = torch.utils.data.DataLoader(dataset=test_dataset, \n",
    "                                          batch_size=batch_size, \n",
    "                                          shuffle=False)"
   ]
  },
  {
   "cell_type": "markdown",
   "metadata": {},
   "source": [
    "### Build the Model\n",
    "\n",
    "We have defined in great details Neural Network. In the next snippet of code we will translate everything in PyTorch code."
   ]
  },
  {
   "cell_type": "code",
   "execution_count": 6,
   "metadata": {
    "collapsed": true
   },
   "outputs": [],
   "source": [
    "# Hyperparameters\n",
    "input_size = 784 # 28 * 28\n",
    "hidden_size = 500\n",
    "num_classes = 10\n",
    "learning_rate = 1e-3\n",
    "\n",
    "#### Model ####\n",
    "# Convolutional Neural Network Model\n",
    "class CNN(nn.Module):\n",
    "    \"\"\"ConvNet -> Max_Pool -> RELU -> ConvNet -> Max_Pool -> RELU -> FC -> RELU -> FC -> SOFTMAX\"\"\"\n",
    "    def __init__(self, num_classes):\n",
    "        super(CNN, self).__init__()\n",
    "        self.conv1 = nn.Conv2d(1, 10, kernel_size=5)\n",
    "        self.conv2 = nn.Conv2d(10, 20, kernel_size=5)\n",
    "        self.conv2_drop = nn.Dropout2d()\n",
    "        self.fc1 = nn.Linear(320, 50)\n",
    "        self.fc2 = nn.Linear(50, num_classes)\n",
    "\n",
    "    def forward(self, x):\n",
    "        x = F.relu(F.max_pool2d(self.conv1(x), 2))\n",
    "        x = F.relu(F.max_pool2d(self.conv2_drop(self.conv2(x)), 2))\n",
    "        x = x.view(-1, 320)\n",
    "        x = F.relu(self.fc1(x))\n",
    "        x = F.dropout(x, training=self.training)\n",
    "        x = self.fc2(x)\n",
    "        return F.log_softmax(x)\n",
    "\n",
    "    \n",
    "    \n",
    "model = CNN(num_classes)\n",
    "\n",
    "# If you are running a GPU instance, load the model on GPU\n",
    "if cuda:\n",
    "    model.cuda()\n",
    "    \n",
    "\n",
    "#### Loss and Optimizer ####\n",
    "# Softmax is internally computed.\n",
    "loss_fn = nn.CrossEntropyLoss()\n",
    "# If you are running a GPU instance, compute the loss on GPU\n",
    "if cuda:\n",
    "    loss_fn.cuda()\n",
    "    \n",
    "# Set parameters to be updated.  \n",
    "optimizer = torch.optim.Adam(model.parameters(), lr=learning_rate)  "
   ]
  },
  {
   "cell_type": "markdown",
   "metadata": {},
   "source": [
    "### Train\n",
    "We will train our model for 5 epochs and evaluate on test set."
   ]
  },
  {
   "cell_type": "code",
   "execution_count": 7,
   "metadata": {},
   "outputs": [
    {
     "name": "stdout",
     "output_type": "stream",
     "text": [
      "Epoch: [1/5], Step: [100/937], Loss: 0.7680, Accuracy: 73.4375\n",
      "Epoch: [1/5], Step: [200/937], Loss: 0.4178, Accuracy: 84.3750\n",
      "Epoch: [1/5], Step: [300/937], Loss: 0.4366, Accuracy: 84.3750\n",
      "Epoch: [1/5], Step: [400/937], Loss: 0.5098, Accuracy: 85.9375\n",
      "Epoch: [1/5], Step: [500/937], Loss: 0.3783, Accuracy: 87.5000\n",
      "Epoch: [1/5], Step: [600/937], Loss: 0.2915, Accuracy: 90.6250\n",
      "Epoch: [1/5], Step: [700/937], Loss: 0.3397, Accuracy: 92.1875\n",
      "Epoch: [1/5], Step: [800/937], Loss: 0.4938, Accuracy: 87.5000\n",
      "Epoch: [1/5], Step: [900/937], Loss: 0.1384, Accuracy: 92.1875\n",
      "Epoch: [2/5], Step: [100/937], Loss: 0.2406, Accuracy: 93.7500\n",
      "Epoch: [2/5], Step: [200/937], Loss: 0.2186, Accuracy: 95.3125\n",
      "Epoch: [2/5], Step: [300/937], Loss: 0.3452, Accuracy: 90.6250\n",
      "Epoch: [2/5], Step: [400/937], Loss: 0.2622, Accuracy: 89.0625\n",
      "Epoch: [2/5], Step: [500/937], Loss: 0.4096, Accuracy: 92.1875\n",
      "Epoch: [2/5], Step: [600/937], Loss: 0.2443, Accuracy: 93.7500\n",
      "Epoch: [2/5], Step: [700/937], Loss: 0.1874, Accuracy: 93.7500\n",
      "Epoch: [2/5], Step: [800/937], Loss: 0.2093, Accuracy: 92.1875\n",
      "Epoch: [2/5], Step: [900/937], Loss: 0.2628, Accuracy: 92.1875\n",
      "Epoch: [3/5], Step: [100/937], Loss: 0.3899, Accuracy: 87.5000\n",
      "Epoch: [3/5], Step: [200/937], Loss: 0.3178, Accuracy: 90.6250\n",
      "Epoch: [3/5], Step: [300/937], Loss: 0.1971, Accuracy: 90.6250\n",
      "Epoch: [3/5], Step: [400/937], Loss: 0.0902, Accuracy: 98.4375\n",
      "Epoch: [3/5], Step: [500/937], Loss: 0.5048, Accuracy: 90.6250\n",
      "Epoch: [3/5], Step: [600/937], Loss: 0.4569, Accuracy: 89.0625\n",
      "Epoch: [3/5], Step: [700/937], Loss: 0.2125, Accuracy: 90.6250\n",
      "Epoch: [3/5], Step: [800/937], Loss: 0.1998, Accuracy: 95.3125\n",
      "Epoch: [3/5], Step: [900/937], Loss: 0.1735, Accuracy: 95.3125\n",
      "Epoch: [4/5], Step: [100/937], Loss: 0.1368, Accuracy: 96.8750\n",
      "Epoch: [4/5], Step: [200/937], Loss: 0.0789, Accuracy: 98.4375\n",
      "Epoch: [4/5], Step: [300/937], Loss: 0.2432, Accuracy: 93.7500\n",
      "Epoch: [4/5], Step: [400/937], Loss: 0.1496, Accuracy: 98.4375\n",
      "Epoch: [4/5], Step: [500/937], Loss: 0.1364, Accuracy: 93.7500\n",
      "Epoch: [4/5], Step: [600/937], Loss: 0.3227, Accuracy: 92.1875\n",
      "Epoch: [4/5], Step: [700/937], Loss: 0.1556, Accuracy: 93.7500\n",
      "Epoch: [4/5], Step: [800/937], Loss: 0.1870, Accuracy: 92.1875\n",
      "Epoch: [4/5], Step: [900/937], Loss: 0.1770, Accuracy: 93.7500\n",
      "Epoch: [5/5], Step: [100/937], Loss: 0.1692, Accuracy: 93.7500\n",
      "Epoch: [5/5], Step: [200/937], Loss: 0.2773, Accuracy: 95.3125\n",
      "Epoch: [5/5], Step: [300/937], Loss: 0.4917, Accuracy: 90.6250\n",
      "Epoch: [5/5], Step: [400/937], Loss: 0.1221, Accuracy: 96.8750\n",
      "Epoch: [5/5], Step: [500/937], Loss: 0.1060, Accuracy: 98.4375\n",
      "Epoch: [5/5], Step: [600/937], Loss: 0.0694, Accuracy: 98.4375\n",
      "Epoch: [5/5], Step: [700/937], Loss: 0.1996, Accuracy: 95.3125\n",
      "Epoch: [5/5], Step: [800/937], Loss: 0.1096, Accuracy: 98.4375\n",
      "Epoch: [5/5], Step: [900/937], Loss: 0.2856, Accuracy: 90.6250\n"
     ]
    }
   ],
   "source": [
    "# Hyperparameters\n",
    "num_epochs = 5\n",
    "print_every = 100\n",
    "\n",
    "# Metrics\n",
    "train_loss = []\n",
    "train_accu = []\n",
    "\n",
    "# Model train mode\n",
    "model.train()\n",
    "# Training the Model\n",
    "for epoch in range(num_epochs):\n",
    "    for i, (images, labels) in enumerate(train_loader):\n",
    "        # image unrolling\n",
    "        images = Variable(images)\n",
    "        labels = Variable(labels)\n",
    "        \n",
    "        if cuda:\n",
    "            images, labels = images.cuda(), labels.cuda()\n",
    "        \n",
    "        # Forward + Backward + Optimize\n",
    "        optimizer.zero_grad()\n",
    "        outputs = model(images)\n",
    "        loss = loss_fn(outputs, labels)\n",
    "        \n",
    "        # Load loss on CPU\n",
    "        if cuda:\n",
    "            loss.cpu()\n",
    "        loss.backward()\n",
    "        optimizer.step()\n",
    "        \n",
    "        ### Keep track of metric every batch\n",
    "        # Loss Metric\n",
    "        train_loss.append(loss.data[0])\n",
    "        # Accuracy Metric\n",
    "        prediction = outputs.data.max(1)[1]   # first column has actual prob.\n",
    "        accuracy = prediction.eq(labels.data).sum()/batch_size*100\n",
    "        train_accu.append(accuracy)\n",
    "        \n",
    "        # Log\n",
    "        if (i+1) % print_every == 0:\n",
    "            print ('Epoch: [%d/%d], Step: [%d/%d], Loss: %.4f, Accuracy: %.4f' \n",
    "                   % (epoch+1, num_epochs, i+1, len(train_dataset)//batch_size, loss.data[0], accuracy))"
   ]
  },
  {
   "cell_type": "code",
   "execution_count": 8,
   "metadata": {},
   "outputs": [
    {
     "data": {
      "text/plain": [
       "[<matplotlib.lines.Line2D at 0x7f3789f91ba8>]"
      ]
     },
     "execution_count": 8,
     "metadata": {},
     "output_type": "execute_result"
    },
    {
     "data": {
      "image/png": "[encoded data removed]",
      "text/plain": [
       "<matplotlib.figure.Figure at 0x7f3789f914e0>"
      ]
     },
     "metadata": {},
     "output_type": "display_data"
    }
   ],
   "source": [
    "plt.xlabel(\"Steps\")\n",
    "plt.ylabel(\"Loss\")\n",
    "plt.title(\"Loss function over time\")\n",
    "plt.plot(np.arange(len(train_loss)), train_loss)"
   ]
  },
  {
   "cell_type": "code",
   "execution_count": 9,
   "metadata": {},
   "outputs": [
    {
     "data": {
      "text/plain": [
       "[<matplotlib.lines.Line2D at 0x7f373a0beba8>]"
      ]
     },
     "execution_count": 9,
     "metadata": {},
     "output_type": "execute_result"
    },
    {
     "data": {
      "image/png": "[encoded data removed]",
      "text/plain": [
       "<matplotlib.figure.Figure at 0x7f37395c3d68>"
      ]
     },
     "metadata": {},
     "output_type": "display_data"
    }
   ],
   "source": [
    "plt.xlabel(\"Steps\")\n",
    "plt.ylabel(\"Accuracy\")\n",
    "plt.title(\"Accuracy function over time\")\n",
    "plt.plot(np.arange(len(train_accu)), train_accu)"
   ]
  },
  {
   "cell_type": "markdown",
   "metadata": {},
   "source": [
    "### Evaluate\n",
    "Let's evaluate our model on test set."
   ]
  },
  {
   "cell_type": "code",
   "execution_count": 10,
   "metadata": {},
   "outputs": [
    {
     "name": "stdout",
     "output_type": "stream",
     "text": [
      "\n",
      "Test set: Accuracy: 98.18%\n"
     ]
    }
   ],
   "source": [
    "model.eval()\n",
    "correct = 0\n",
    "for data, target in test_loader:\n",
    "    data, target = Variable(data, volatile=True), Variable(target)\n",
    "    if cuda:\n",
    "        data, target = data.cuda(), target.cuda()\n",
    "    output = model(data)\n",
    "    # Load output on CPU\n",
    "    if cuda:\n",
    "        output.cpu()\n",
    "    prediction = output.data.max(1)[1]\n",
    "    correct += prediction.eq(target.data).sum()\n",
    "\n",
    "print('\\nTest set: Accuracy: {:.2f}%'.format(100. * correct / len(test_loader.dataset)))"
   ]
  },
  {
   "cell_type": "code",
   "execution_count": 11,
   "metadata": {},
   "outputs": [
    {
     "data": {
      "image/png": "[encoded data removed]",
      "text/plain": [
       "<matplotlib.figure.Figure at 0x7f3739577668>"
      ]
     },
     "metadata": {},
     "output_type": "display_data"
    }
   ],
   "source": [
    "# Test Label\n",
    "\n",
    "# Hyperparameter\n",
    "batch_size = 10\n",
    "\n",
    "# Testing Dataset Loader (Input Pipline)\n",
    "test_loader = torch.utils.data.DataLoader(dataset=test_dataset, \n",
    "                                          batch_size=batch_size, \n",
    "                                          shuffle=False)\n",
    "\n",
    "# Plot a grid of images\n",
    "def imshow(inp_tensor, title):\n",
    "    \"\"\"image show for Tensor\"\"\"\n",
    "    img = inp_tensor.numpy().transpose((1, 2, 0))\n",
    "    plt.imshow(img)\n",
    "    if title is not None:\n",
    "        plt.title(title)\n",
    "    plt.pause(0.001)\n",
    "\n",
    "# Get a batch\n",
    "testset_iter = iter(test_loader)\n",
    "images, labels = testset_iter.next()\n",
    "# show images\n",
    "batch_imgs = make_grid(images, nrow=batch_size)\n",
    "plt.axis('off')\n",
    "imshow(batch_imgs, title=[x for x in labels])"
   ]
  },
  {
   "cell_type": "code",
   "execution_count": 12,
   "metadata": {},
   "outputs": [
    {
     "data": {
      "image/png": "[encoded data removed]",
      "text/plain": [
       "<matplotlib.figure.Figure at 0x7f37394c1b70>"
      ]
     },
     "metadata": {},
     "output_type": "display_data"
    }
   ],
   "source": [
    "# Result from Training\n",
    "\n",
    "input = Variable(images, volatile=True)\n",
    "if cuda:\n",
    "    input = input.cuda()\n",
    "output = model(input)\n",
    "# Load output on CPU\n",
    "if cuda:\n",
    "    output.cpu()\n",
    "    \n",
    "plt.axis('off')\n",
    "imshow(batch_imgs, title=[x for x in output.data.max(1)[1]])"
   ]
  },
  {
   "cell_type": "markdown",
   "metadata": {},
   "source": [
    "### Is it possible to do better?\n",
    "\n",
    "Yes, the best score reported on this task is around [0.999...%](https://www.kaggle.com/c/digit-recognizer/leaderboard) without any form of data agumentation, only tuning the model. (Do not consider the 1.0 that is cheating)"
   ]
  },
  {
   "cell_type": "markdown",
   "metadata": {},
   "source": [
    "### Summary\n",
    "\n",
    "TODO"
   ]
  },
  {
   "cell_type": "markdown",
   "metadata": {},
   "source": [
    "### It's you turn!\n",
    "\n",
    "Play a bit with different with CNN model adding more Conv Layer, Batch/Layer Norm, Dropout, Residual Connection, different optimizers(try YellowFin a recent optimizers), replace Relu with Swish(a new activation function). There are too many things to try! Otherwise are you reading to learn how to manage sequence? We are waiting for you in the next episode: Sequence Models."
   ]
  },
  {
   "cell_type": "markdown",
   "metadata": {},
   "source": [
    "### Thanks and Resources\n",
    "\n",
    "[Cole Murray - Deep Learning CNN’s in Tensorflow with GPUs](https://hackernoon.com/deep-learning-cnns-in-tensorflow-with-gpus-cba6efe0acc2)"
   ]
  }
 ],
 "metadata": {
  "kernelspec": {
   "display_name": "Python 3",
   "language": "python",
   "name": "python3"
  },
  "language_info": {
   "codemirror_mode": {
    "name": "ipython",
    "version": 3
   },
   "file_extension": ".py",
   "mimetype": "text/x-python",
   "name": "python",
   "nbconvert_exporter": "python",
   "pygments_lexer": "ipython3",
   "version": "3.5.3"
  }
 },
 "nbformat": 4,
 "nbformat_minor": 2
}
